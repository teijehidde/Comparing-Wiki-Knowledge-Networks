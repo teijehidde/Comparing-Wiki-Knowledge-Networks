{
 "metadata": {
  "language_info": {
   "codemirror_mode": {
    "name": "ipython",
    "version": 3
   },
   "file_extension": ".py",
   "mimetype": "text/x-python",
   "name": "python",
   "nbconvert_exporter": "python",
   "pygments_lexer": "ipython3",
   "version": "3.8.5"
  },
  "orig_nbformat": 2,
  "kernelspec": {
   "name": "python385jvsc74a57bd031f2aee4e71d21fbe5cf8b01ff0e069b9275f58929596ceb00d14d90e3e16cd6",
   "display_name": "Python 3.8.5 64-bit"
  }
 },
 "nbformat": 4,
 "nbformat_minor": 2,
 "cells": [
  {
   "cell_type": "code",
   "execution_count": 16,
   "metadata": {},
   "outputs": [],
   "source": [
    "#Setup \n",
    "import requests\n",
    "import json\n",
    "from datetime import date\n",
    "\n",
    "WIKI_URL = \"https://en.wikipedia.org\"\n",
    "API_ENDPOINT = WIKI_URL + \"/w/api.php\"\n",
    "DATA_FILE = 'networkdata3.json'\n"
   ]
  },
  {
   "cell_type": "code",
   "execution_count": null,
   "metadata": {},
   "outputs": [],
   "source": [
    "S = requests.Session()\n",
    "PARAMS = {\n",
    "    \"action\": \"query\",\n",
    "    \"format\": \"json\",\n",
    "    \"titles\": \"Cambridge\",\n",
    "    \"prop\": \"links\"\n",
    "}\n",
    "response = S.get(url=API_ENDPOINT, params=PARAMS)\n",
    "\n",
    "# Transforming response to network data format.  \n",
    "data_wiki = response.json()\n",
    "page = next(iter(data_wiki['query']['pages']))\n",
    "    \n",
    "for x in data_wiki['query']['pages'][page]['links']:\n",
    "    nodes.append(x['title'])\n",
    "    edges.append((pagetitle, x['title']))\n",
    "\n",
    "return (nodes)"
   ]
  },
  {
   "cell_type": "code",
   "execution_count": 34,
   "metadata": {},
   "outputs": [
    {
     "output_type": "execute_result",
     "data": {
      "text/plain": [
       "10"
      ]
     },
     "metadata": {},
     "execution_count": 34
    }
   ],
   "source": [
    "page_title = 'Zevenaar'\n",
    "len(network_data[page_title][1]['nodes']['1'])"
   ]
  },
  {
   "cell_type": "code",
   "execution_count": 28,
   "metadata": {},
   "outputs": [
    {
     "output_type": "execute_result",
     "data": {
      "text/plain": [
       "{'1': ['1988 Summer Olympics',\n",
       "  '1992 Summer Olympics',\n",
       "  '2004 Summer Olympics',\n",
       "  'Aalten',\n",
       "  'Andreas Masius',\n",
       "  'Angerlo',\n",
       "  'Apeldoorn',\n",
       "  'Arnhem',\n",
       "  'Babberich',\n",
       "  'Barneveld (municipality)'],\n",
       " '2': 'placeholder',\n",
       " '3': 'placeholder',\n",
       " '4': 'placeholder'}"
      ]
     },
     "metadata": {},
     "execution_count": 28
    }
   ],
   "source": [
    "network_data[page_title][1]['nodes']"
   ]
  },
  {
   "cell_type": "code",
   "execution_count": 17,
   "metadata": {},
   "outputs": [
    {
     "output_type": "execute_result",
     "data": {
      "text/plain": [
       "{'Zevenaar': ['118651',\n",
       "  {'date': 'TODO',\n",
       "   'nodes': {'1': ['1988 Summer Olympics',\n",
       "     '1992 Summer Olympics',\n",
       "     '2004 Summer Olympics',\n",
       "     'Aalten',\n",
       "     'Andreas Masius',\n",
       "     'Angerlo',\n",
       "     'Apeldoorn',\n",
       "     'Arnhem',\n",
       "     'Babberich',\n",
       "     'Barneveld (municipality)'],\n",
       "    '2': 'placeholder',\n",
       "    '3': 'placeholder',\n",
       "    '4': 'placeholder'},\n",
       "   'edges': {'1': [['Zevenaar', '1988 Summer Olympics'],\n",
       "     ['Zevenaar', '1992 Summer Olympics'],\n",
       "     ['Zevenaar', '2004 Summer Olympics'],\n",
       "     ['Zevenaar', 'Aalten'],\n",
       "     ['Zevenaar', 'Andreas Masius'],\n",
       "     ['Zevenaar', 'Angerlo'],\n",
       "     ['Zevenaar', 'Apeldoorn'],\n",
       "     ['Zevenaar', 'Arnhem'],\n",
       "     ['Zevenaar', 'Babberich'],\n",
       "     ['Zevenaar', 'Barneveld (municipality)']],\n",
       "    '2': 'placeholder',\n",
       "    '3': 'placeholder',\n",
       "    '4': 'placeholder'}}],\n",
       " 'Duiven': ['118602',\n",
       "  {'date': 'TODO',\n",
       "   'nodes': {'1': ['Aalten',\n",
       "     'Apeldoorn',\n",
       "     'Arnhem',\n",
       "     'Barneveld (municipality)',\n",
       "     'Bavaria',\n",
       "     'Berg en Dal (municipality)',\n",
       "     'Berkelland',\n",
       "     'Beuningen',\n",
       "     'Bronckhorst',\n",
       "     'Brummen'],\n",
       "    '2': 'placeholder',\n",
       "    '3': 'placeholder',\n",
       "    '4': 'placeholder'},\n",
       "   'edges': {'1': [['Duiven', 'Aalten'],\n",
       "     ['Duiven', 'Apeldoorn'],\n",
       "     ['Duiven', 'Arnhem'],\n",
       "     ['Duiven', 'Barneveld (municipality)'],\n",
       "     ['Duiven', 'Bavaria'],\n",
       "     ['Duiven', 'Berg en Dal (municipality)'],\n",
       "     ['Duiven', 'Berkelland'],\n",
       "     ['Duiven', 'Beuningen'],\n",
       "     ['Duiven', 'Bronckhorst'],\n",
       "     ['Duiven', 'Brummen']],\n",
       "    '2': 'placeholder',\n",
       "    '3': 'placeholder',\n",
       "    '4': 'placeholder'}}],\n",
       " 'Cambridge': ['36995',\n",
       "  {'date': 'TODO',\n",
       "   'nodes': {'1': ['1950 United Kingdom general election',\n",
       "     '2011 United Kingdom census',\n",
       "     '2015 United Kingdom general election',\n",
       "     'A10 road (England)',\n",
       "     'A14 road (England)',\n",
       "     'A1 road (Great Britain)',\n",
       "     'A421 road',\n",
       "     'A428 road',\n",
       "     'ADC Theatre',\n",
       "     'ARM Limited'],\n",
       "    '2': 'placeholder',\n",
       "    '3': 'placeholder',\n",
       "    '4': 'placeholder'},\n",
       "   'edges': {'1': [['Cambridge', '1950 United Kingdom general election'],\n",
       "     ['Cambridge', '2011 United Kingdom census'],\n",
       "     ['Cambridge', '2015 United Kingdom general election'],\n",
       "     ['Cambridge', 'A10 road (England)'],\n",
       "     ['Cambridge', 'A14 road (England)'],\n",
       "     ['Cambridge', 'A1 road (Great Britain)'],\n",
       "     ['Cambridge', 'A421 road'],\n",
       "     ['Cambridge', 'A428 road'],\n",
       "     ['Cambridge', 'ADC Theatre'],\n",
       "     ['Cambridge', 'ARM Limited']],\n",
       "    '2': 'placeholder',\n",
       "    '3': 'placeholder',\n",
       "    '4': 'placeholder'}}]}"
      ]
     },
     "metadata": {},
     "execution_count": 17
    }
   ],
   "source": [
    "network_data"
   ]
  },
  {
   "cell_type": "code",
   "execution_count": 6,
   "metadata": {},
   "outputs": [],
   "source": [
    "# Check if json file is present. \n",
    "\n",
    "def WikiNetworkDataMAIN():\n",
    "\n",
    "    try:\n",
    "        network_data = open('/home/teijehidde/Documents/Git Blog and Coding/Project one (wikipedia SNA)/Code/' + DATA_FILE)\n",
    "    except IOError:\n",
    "        print(\"Error: Could not find \" + DATA_FILE + \". Please check if file is present in directory, or change DATA_FILE value.\")\n",
    "    else: \n",
    "        print(\"The file \" + DATA_FILE + \" found, succesfully loaded.\")\n",
    "        print(\"Networks are loaded through \" + API_ENDPOINT + \".\")\n",
    "        SelectMenu()\n"
   ]
  },
  {
   "cell_type": "code",
   "execution_count": 7,
   "metadata": {},
   "outputs": [],
   "source": [
    "# Select function to be run on json file.  \n",
    "\n",
    "def SelectMenu(): # WIP\n",
    "\n",
    "    os.system('clear')\n",
    "\n",
    "    print(\"   \")\n",
    "    print(\"---\")\n",
    "    print(\"   \")\n",
    "    print(\"This is a command line tool to build, append and update wikinetworks. Please type a number between 1 and 6 to select one of the following options:\")\n",
    "    print(\"   \")\n",
    "    print(\"1 = List existing networks in \" + DATA_FILE + \".\")\n",
    "    print(\"2 = Check status of an existing network.\")\n",
    "    print(\"3 = Build a new network.\")\n",
    "    print(\"4 = Append existing network.\")\n",
    "    print(\"5 = Update existing network.\")\n",
    "    print(\"6 = Update revision history of existing network.\")\n",
    "\n",
    "    choice_int = int(input(\"Please type a number between 1 and 6 to select one of the above options:\" ))\n",
    "    \n",
    "    if choice_int == 1: ListNetworks()\n",
    "    if choice_int == 2: CheckStatusNetwork()\n",
    "    if choice_int == 3: BuildNetwork()\n",
    "    if choice_int == 4: AppendNetwork()\n",
    "    if choice_int == 5: UpdateNetwork()\n",
    "    if choice_int == 6: UpdateRevisionsNetwork()\n",
    "    else: \n",
    "        print(\"Please Select a number between 1 and 6.\")\n",
    "        SelectMenu()\n"
   ]
  },
  {
   "cell_type": "code",
   "execution_count": 8,
   "metadata": {},
   "outputs": [],
   "source": [
    "with open('/home/teijehidde/Documents/Git Blog and Coding/Project one (wikipedia SNA)/Code/' + DATA_FILE) as json_file:\n",
    "            global network_data\n",
    "            network_data = json.load(json_file)"
   ]
  },
  {
   "cell_type": "code",
   "execution_count": 15,
   "metadata": {},
   "outputs": [
    {
     "output_type": "stream",
     "name": "stdout",
     "text": [
      "Zevenaar\nDuiven\nCambridge\n"
     ]
    }
   ],
   "source": [
    "for item in network_data.keys(): \n",
    "    print(item)"
   ]
  },
  {
   "cell_type": "code",
   "execution_count": 87,
   "metadata": {},
   "outputs": [],
   "source": [
    "def ListNetworks():\n",
    "    os.system('clear')\n",
    "\n",
    "    for item in network_data.keys(): \n",
    "    print(item)\n",
    "\n",
    "    "
   ]
  },
  {
   "cell_type": "code",
   "execution_count": 88,
   "metadata": {},
   "outputs": [],
   "source": [
    "def CheckStatusNetwork():\n",
    "    os.system('clear')\n",
    "    print(\"Not implemented yet.\")"
   ]
  },
  {
   "cell_type": "code",
   "execution_count": 10,
   "metadata": {},
   "outputs": [],
   "source": [
    "network_data = {}"
   ]
  },
  {
   "cell_type": "code",
   "execution_count": 11,
   "metadata": {},
   "outputs": [],
   "source": [
    "def BuildNetwork():\n",
    "    \"\"\" Fetch links via MediaWiki API's to build first layer of ego network \"\"\"\n",
    "    \n",
    "   # network_data = open('/home/teijehidde/Documents/Git Blog and Coding/Project one (wikipedia SNA)/Code/' + DATA_FILE)\n",
    "\n",
    "    nodes = set()\n",
    "    edges = []\n",
    "    params = {\n",
    "        \"action\": \"query\",\n",
    "        \"format\": \"json\",\n",
    "        \"titles\": pagetitle,\n",
    "        \"prop\": \"links\"\n",
    "    }\n",
    "\n",
    "    response = requests.get(url=API_ENDPOINT, params=params)\n",
    "    \n",
    "    data_wiki = response.json()\n",
    "    page = next(iter(data['query']['pages']))\n",
    "    \n",
    "    for x in data['query']['pages'][page]['links']: \n",
    "        nodes.add(x['title'])\n",
    "        edges.append((pagetitle, x['title']))\n",
    "    \n",
    "    data_page = {'pageID': page, 'date': 'TODO', 'nodes': {'level0': pagetitle, 'level1': nodes}, 'edges': {'level1': edges} }\n",
    "    \n",
    "    network_data[pagetitle] = data_page  \n",
    "    # json_object['pages'].append(data_page)\n",
    "\n",
    "    #return json_object"
   ]
  },
  {
   "cell_type": "code",
   "execution_count": 12,
   "metadata": {},
   "outputs": [
    {
     "output_type": "stream",
     "name": "stdout",
     "text": [
      "{}\n"
     ]
    }
   ],
   "source": [
    "print(network_data)"
   ]
  },
  {
   "cell_type": "code",
   "execution_count": 90,
   "metadata": {},
   "outputs": [],
   "source": [
    "def AppendNetwork():\n",
    "    os.system('clear')\n",
    "    print(\"Not implemented yet.\")"
   ]
  },
  {
   "cell_type": "code",
   "execution_count": 91,
   "metadata": {},
   "outputs": [],
   "source": [
    "def UpdateNetwork():\n",
    "    os.system('clear')\n",
    "    print(\"Not implemented yet.\")"
   ]
  },
  {
   "cell_type": "code",
   "execution_count": 92,
   "metadata": {},
   "outputs": [],
   "source": [
    "def UpdateRevisionsNetwork():\n",
    "    os.system('clear')\n",
    "    print(\"Not implemented yet.\")"
   ]
  },
  {
   "cell_type": "code",
   "execution_count": 93,
   "metadata": {},
   "outputs": [
    {
     "output_type": "stream",
     "name": "stdout",
     "text": [
      "The file networkdata.json found, succesfully loaded.\n",
      "Networks are loaded through https://en.wikipedia.org/w/api.php.\n",
      "   \n",
      "---\n",
      "   \n",
      "This is a command line tool to build, append and update wikinetworks. Please type a number between 1 and 6 to select one of the following options:\n",
      "   \n",
      "1 = List existing networks in networkdata.json.\n",
      "2 = Check status of an existing network.\n",
      "3 = Build a new network.\n",
      "4 = Append existing network.\n",
      "5 = Update existing network.\n",
      "6 = Update revision history of existing network.\n",
      "Not implemented yet.\n"
     ]
    }
   ],
   "source": [
    "WikiNetworkDataMAIN()"
   ]
  },
  {
   "cell_type": "code",
   "execution_count": 39,
   "metadata": {},
   "outputs": [
    {
     "output_type": "stream",
     "name": "stdout",
     "text": [
      "{'pages': [{'pageID': '56494', 'date': 'TODO', 'nodes': {'level0': 'Bergen', 'level1': ['+47', '1961–62 Norwegian Main League', '1963 Norwegian First Division', '1990 Norwegian First Division', '1991 Norwegian Premier League', '1993 Norwegian Premier League', \"1996–97 UEFA Cup Winners' Cup\", '2003 Norwegian county council election', '2007 Norwegian local elections', '2007 SK Brann season']}, 'edges': {'level1': [('Bergen', '+47'), ('Bergen', '1961–62 Norwegian Main League'), ('Bergen', '1963 Norwegian First Division'), ('Bergen', '1990 Norwegian First Division'), ('Bergen', '1991 Norwegian Premier League'), ('Bergen', '1993 Norwegian Premier League'), ('Bergen', \"1996–97 UEFA Cup Winners' Cup\"), ('Bergen', '2003 Norwegian county council election'), ('Bergen', '2007 Norwegian local elections'), ('Bergen', '2007 SK Brann season')]}}]}\n"
     ]
    }
   ],
   "source": [
    "print(data)"
   ]
  },
  {
   "cell_type": "code",
   "execution_count": 27,
   "metadata": {},
   "outputs": [
    {
     "output_type": "execute_result",
     "data": {
      "text/plain": [
       "{'pages': [{'pageID': '118602',\n",
       "   'date': datetime.date(2021, 3, 31),\n",
       "   'nodes': {'level0': 'Duiven',\n",
       "    'level1': ['Aalten',\n",
       "     'Apeldoorn',\n",
       "     'Arnhem',\n",
       "     'Barneveld (municipality)',\n",
       "     'Bavaria',\n",
       "     'Berg en Dal (municipality)',\n",
       "     'Berkelland',\n",
       "     'Beuningen',\n",
       "     'Bronckhorst',\n",
       "     'Brummen']},\n",
       "   'edges': {'level1': [('Duiven', 'Aalten'),\n",
       "     ('Duiven', 'Apeldoorn'),\n",
       "     ('Duiven', 'Arnhem'),\n",
       "     ('Duiven', 'Barneveld (municipality)'),\n",
       "     ('Duiven', 'Bavaria'),\n",
       "     ('Duiven', 'Berg en Dal (municipality)'),\n",
       "     ('Duiven', 'Berkelland'),\n",
       "     ('Duiven', 'Beuningen'),\n",
       "     ('Duiven', 'Bronckhorst'),\n",
       "     ('Duiven', 'Brummen')]}}]}"
      ]
     },
     "metadata": {},
     "execution_count": 27
    }
   ],
   "source": [
    "data2"
   ]
  },
  {
   "cell_type": "code",
   "execution_count": 48,
   "metadata": {},
   "outputs": [],
   "source": [
    "test = json.dumps(data, indent=2, sort_keys=True)"
   ]
  },
  {
   "cell_type": "code",
   "execution_count": 5,
   "metadata": {},
   "outputs": [],
   "source": [
    "network_data = None"
   ]
  },
  {
   "cell_type": "code",
   "execution_count": 49,
   "metadata": {},
   "outputs": [
    {
     "output_type": "execute_result",
     "data": {
      "text/plain": [
       "'{\\n  \"pages\": [\\n    {\\n      \"date\": \"TODO\",\\n      \"edges\": {\\n        \"level1\": [\\n          [\\n            \"Bergen\",\\n            \"+47\"\\n          ],\\n          [\\n            \"Bergen\",\\n            \"1961\\\\u201362 Norwegian Main League\"\\n          ],\\n          [\\n            \"Bergen\",\\n            \"1963 Norwegian First Division\"\\n          ],\\n          [\\n            \"Bergen\",\\n            \"1990 Norwegian First Division\"\\n          ],\\n          [\\n            \"Bergen\",\\n            \"1991 Norwegian Premier League\"\\n          ],\\n          [\\n            \"Bergen\",\\n            \"1993 Norwegian Premier League\"\\n          ],\\n          [\\n            \"Bergen\",\\n            \"1996\\\\u201397 UEFA Cup Winners\\' Cup\"\\n          ],\\n          [\\n            \"Bergen\",\\n            \"2003 Norwegian county council election\"\\n          ],\\n          [\\n            \"Bergen\",\\n            \"2007 Norwegian local elections\"\\n          ],\\n          [\\n            \"Bergen\",\\n            \"2007 SK Brann season\"\\n          ]\\n        ]\\n      },\\n      \"nodes\": {\\n        \"level0\": \"Bergen\",\\n        \"level1\": [\\n          \"+47\",\\n          \"1961\\\\u201362 Norwegian Main League\",\\n          \"1963 Norwegian First Division\",\\n          \"1990 Norwegian First Division\",\\n          \"1991 Norwegian Premier League\",\\n          \"1993 Norwegian Premier League\",\\n          \"1996\\\\u201397 UEFA Cup Winners\\' Cup\",\\n          \"2003 Norwegian county council election\",\\n          \"2007 Norwegian local elections\",\\n          \"2007 SK Brann season\"\\n        ]\\n      },\\n      \"pageID\": \"56494\"\\n    },\\n    {\\n      \"pages\": [\\n        {\\n          \"date\": \"TODO\",\\n          \"edges\": {\\n            \"level1\": [\\n              [\\n                \"Duiven\",\\n                \"Aalten\"\\n              ],\\n              [\\n                \"Duiven\",\\n                \"Apeldoorn\"\\n              ],\\n              [\\n                \"Duiven\",\\n                \"Arnhem\"\\n              ],\\n              [\\n                \"Duiven\",\\n                \"Barneveld (municipality)\"\\n              ],\\n              [\\n                \"Duiven\",\\n                \"Bavaria\"\\n              ],\\n              [\\n                \"Duiven\",\\n                \"Berg en Dal (municipality)\"\\n              ],\\n              [\\n                \"Duiven\",\\n                \"Berkelland\"\\n              ],\\n              [\\n                \"Duiven\",\\n                \"Beuningen\"\\n              ],\\n              [\\n                \"Duiven\",\\n                \"Bronckhorst\"\\n              ],\\n              [\\n                \"Duiven\",\\n                \"Brummen\"\\n              ]\\n            ]\\n          },\\n          \"nodes\": {\\n            \"level0\": \"Duiven\",\\n            \"level1\": [\\n              \"Aalten\",\\n              \"Apeldoorn\",\\n              \"Arnhem\",\\n              \"Barneveld (municipality)\",\\n              \"Bavaria\",\\n              \"Berg en Dal (municipality)\",\\n              \"Berkelland\",\\n              \"Beuningen\",\\n              \"Bronckhorst\",\\n              \"Brummen\"\\n            ]\\n          },\\n          \"pageID\": \"118602\"\\n        }\\n      ]\\n    }\\n  ]\\n}'"
      ]
     },
     "metadata": {},
     "execution_count": 49
    }
   ],
   "source": [
    "test"
   ]
  },
  {
   "cell_type": "code",
   "execution_count": 48,
   "metadata": {},
   "outputs": [],
   "source": [
    "import requests\n",
    "import json\n",
    "import os\n",
    "from time import sleep\n",
    "from datetime import date\n",
    "\n",
    "WIKI_URL = \"https://en.wikipedia.org\"\n",
    "API_ENDPOINT = WIKI_URL + \"/w/api.php\"\n",
    "DATA_FILE = 'networkdata3.json'\n",
    "pagetitle = 'Zevenaar'\n",
    "\n",
    "nodes = []\n",
    "edges = []"
   ]
  },
  {
   "cell_type": "code",
   "execution_count": 49,
   "metadata": {},
   "outputs": [],
   "source": [
    "\n",
    "params = {\n",
    "    \"action\": \"query\",\n",
    "    \"format\": \"json\",\n",
    "    \"titles\": pagetitle,\n",
    "    \"prop\": \"links\"\n",
    "    }\n",
    "\n",
    "response = requests.get(url=API_ENDPOINT, params=params)"
   ]
  },
  {
   "cell_type": "code",
   "execution_count": 51,
   "metadata": {},
   "outputs": [],
   "source": [
    "\n",
    "data_wiki = response.json()\n",
    "page = next(iter(data_wiki['query']['pages']))\n",
    "    \n",
    "for x in data_wiki['query']['pages'][page]['links']:\n",
    "    nodes.append(x['title'])\n",
    "    edges.append((pagetitle, x['title']))\n",
    "    \n",
    "# data_page = {'pageID': page, 'date': 'TODO', 'nodes': {'level0': pagetitle, 'level1': nodes}, 'edges': {'level1': edges} }\n",
    "data_page = page, {'date': 'TODO', 'nodes': {1: nodes, 2: 'placeholder', 3: 'placeholder', 4: 'placeholder'}, 'edges': {1: edges, 2: 'placeholder', 3: 'placeholder', 4: 'placeholder'} }\n",
    "\n",
    "network_data[pagetitle] = data_page\n",
    "    "
   ]
  },
  {
   "cell_type": "code",
   "execution_count": 52,
   "metadata": {},
   "outputs": [
    {
     "output_type": "execute_result",
     "data": {
      "text/plain": [
       "dict"
      ]
     },
     "metadata": {},
     "execution_count": 52
    }
   ],
   "source": [
    "type(network_data)\n",
    "# print(network_data)"
   ]
  },
  {
   "cell_type": "code",
   "execution_count": 53,
   "metadata": {},
   "outputs": [],
   "source": [
    "with open('/home/teijehidde/Documents/Git Blog and Coding/Project one (wikipedia SNA)/Code/' + DATA_FILE, 'w') as outfile:\n",
    "    json.dump(network_data, outfile)"
   ]
  },
  {
   "cell_type": "code",
   "execution_count": 99,
   "metadata": {},
   "outputs": [
    {
     "output_type": "stream",
     "name": "stdout",
     "text": [
      "{'pages': [{'pageID': '118651', 'date': 'TODO', 'nodes': {'level0': 'Zevenaar', 'level1': {'Babberich', '1988 Summer Olympics', '2004 Summer Olympics', 'Apeldoorn', '1992 Summer Olympics', 'Angerlo', 'Barneveld (municipality)', 'Andreas Masius', 'Aalten', 'Arnhem'}}, 'edges': {'level1': [('Zevenaar', '1988 Summer Olympics'), ('Zevenaar', '1992 Summer Olympics'), ('Zevenaar', '2004 Summer Olympics'), ('Zevenaar', 'Aalten'), ('Zevenaar', 'Andreas Masius'), ('Zevenaar', 'Angerlo'), ('Zevenaar', 'Apeldoorn'), ('Zevenaar', 'Arnhem'), ('Zevenaar', 'Babberich'), ('Zevenaar', 'Barneveld (municipality)')]}}]}\n"
     ]
    }
   ],
   "source": [
    "print(network_dat)"
   ]
  },
  {
   "cell_type": "code",
   "execution_count": 37,
   "metadata": {},
   "outputs": [],
   "source": [
    "test = {1: nodes, 2: 'placeholder', 3: 'placeholder', 4: 'placeholder'}"
   ]
  },
  {
   "cell_type": "code",
   "execution_count": 38,
   "metadata": {},
   "outputs": [
    {
     "output_type": "execute_result",
     "data": {
      "text/plain": [
       "dict"
      ]
     },
     "metadata": {},
     "execution_count": 38
    }
   ],
   "source": [
    "type(test)"
   ]
  },
  {
   "cell_type": "code",
   "execution_count": 39,
   "metadata": {},
   "outputs": [
    {
     "output_type": "error",
     "ename": "TypeError",
     "evalue": "Object of type set is not JSON serializable",
     "traceback": [
      "\u001b[0;31m---------------------------------------------------------------------------\u001b[0m",
      "\u001b[0;31mTypeError\u001b[0m                                 Traceback (most recent call last)",
      "\u001b[0;32m<ipython-input-39-eabb7e3a977f>\u001b[0m in \u001b[0;36m<module>\u001b[0;34m\u001b[0m\n\u001b[1;32m      1\u001b[0m \u001b[0;32mwith\u001b[0m \u001b[0mopen\u001b[0m\u001b[0;34m(\u001b[0m\u001b[0;34m'/home/teijehidde/Documents/Git Blog and Coding/Project one (wikipedia SNA)/Code/test.json'\u001b[0m\u001b[0;34m,\u001b[0m \u001b[0;34m'w'\u001b[0m\u001b[0;34m)\u001b[0m \u001b[0;32mas\u001b[0m \u001b[0moutfile\u001b[0m\u001b[0;34m:\u001b[0m\u001b[0;34m\u001b[0m\u001b[0;34m\u001b[0m\u001b[0m\n\u001b[0;32m----> 2\u001b[0;31m     \u001b[0mjson\u001b[0m\u001b[0;34m.\u001b[0m\u001b[0mdump\u001b[0m\u001b[0;34m(\u001b[0m\u001b[0mtest\u001b[0m\u001b[0;34m,\u001b[0m \u001b[0moutfile\u001b[0m\u001b[0;34m)\u001b[0m\u001b[0;34m\u001b[0m\u001b[0;34m\u001b[0m\u001b[0m\n\u001b[0m",
      "\u001b[0;32m/usr/lib/python3.8/json/__init__.py\u001b[0m in \u001b[0;36mdump\u001b[0;34m(obj, fp, skipkeys, ensure_ascii, check_circular, allow_nan, cls, indent, separators, default, sort_keys, **kw)\u001b[0m\n\u001b[1;32m    177\u001b[0m     \u001b[0;31m# could accelerate with writelines in some versions of Python, at\u001b[0m\u001b[0;34m\u001b[0m\u001b[0;34m\u001b[0m\u001b[0;34m\u001b[0m\u001b[0m\n\u001b[1;32m    178\u001b[0m     \u001b[0;31m# a debuggability cost\u001b[0m\u001b[0;34m\u001b[0m\u001b[0;34m\u001b[0m\u001b[0;34m\u001b[0m\u001b[0m\n\u001b[0;32m--> 179\u001b[0;31m     \u001b[0;32mfor\u001b[0m \u001b[0mchunk\u001b[0m \u001b[0;32min\u001b[0m \u001b[0miterable\u001b[0m\u001b[0;34m:\u001b[0m\u001b[0;34m\u001b[0m\u001b[0;34m\u001b[0m\u001b[0m\n\u001b[0m\u001b[1;32m    180\u001b[0m         \u001b[0mfp\u001b[0m\u001b[0;34m.\u001b[0m\u001b[0mwrite\u001b[0m\u001b[0;34m(\u001b[0m\u001b[0mchunk\u001b[0m\u001b[0;34m)\u001b[0m\u001b[0;34m\u001b[0m\u001b[0;34m\u001b[0m\u001b[0m\n\u001b[1;32m    181\u001b[0m \u001b[0;34m\u001b[0m\u001b[0m\n",
      "\u001b[0;32m/usr/lib/python3.8/json/encoder.py\u001b[0m in \u001b[0;36m_iterencode\u001b[0;34m(o, _current_indent_level)\u001b[0m\n\u001b[1;32m    429\u001b[0m             \u001b[0;32myield\u001b[0m \u001b[0;32mfrom\u001b[0m \u001b[0m_iterencode_list\u001b[0m\u001b[0;34m(\u001b[0m\u001b[0mo\u001b[0m\u001b[0;34m,\u001b[0m \u001b[0m_current_indent_level\u001b[0m\u001b[0;34m)\u001b[0m\u001b[0;34m\u001b[0m\u001b[0;34m\u001b[0m\u001b[0m\n\u001b[1;32m    430\u001b[0m         \u001b[0;32melif\u001b[0m \u001b[0misinstance\u001b[0m\u001b[0;34m(\u001b[0m\u001b[0mo\u001b[0m\u001b[0;34m,\u001b[0m \u001b[0mdict\u001b[0m\u001b[0;34m)\u001b[0m\u001b[0;34m:\u001b[0m\u001b[0;34m\u001b[0m\u001b[0;34m\u001b[0m\u001b[0m\n\u001b[0;32m--> 431\u001b[0;31m             \u001b[0;32myield\u001b[0m \u001b[0;32mfrom\u001b[0m \u001b[0m_iterencode_dict\u001b[0m\u001b[0;34m(\u001b[0m\u001b[0mo\u001b[0m\u001b[0;34m,\u001b[0m \u001b[0m_current_indent_level\u001b[0m\u001b[0;34m)\u001b[0m\u001b[0;34m\u001b[0m\u001b[0;34m\u001b[0m\u001b[0m\n\u001b[0m\u001b[1;32m    432\u001b[0m         \u001b[0;32melse\u001b[0m\u001b[0;34m:\u001b[0m\u001b[0;34m\u001b[0m\u001b[0;34m\u001b[0m\u001b[0m\n\u001b[1;32m    433\u001b[0m             \u001b[0;32mif\u001b[0m \u001b[0mmarkers\u001b[0m \u001b[0;32mis\u001b[0m \u001b[0;32mnot\u001b[0m \u001b[0;32mNone\u001b[0m\u001b[0;34m:\u001b[0m\u001b[0;34m\u001b[0m\u001b[0;34m\u001b[0m\u001b[0m\n",
      "\u001b[0;32m/usr/lib/python3.8/json/encoder.py\u001b[0m in \u001b[0;36m_iterencode_dict\u001b[0;34m(dct, _current_indent_level)\u001b[0m\n\u001b[1;32m    403\u001b[0m                 \u001b[0;32melse\u001b[0m\u001b[0;34m:\u001b[0m\u001b[0;34m\u001b[0m\u001b[0;34m\u001b[0m\u001b[0m\n\u001b[1;32m    404\u001b[0m                     \u001b[0mchunks\u001b[0m \u001b[0;34m=\u001b[0m \u001b[0m_iterencode\u001b[0m\u001b[0;34m(\u001b[0m\u001b[0mvalue\u001b[0m\u001b[0;34m,\u001b[0m \u001b[0m_current_indent_level\u001b[0m\u001b[0;34m)\u001b[0m\u001b[0;34m\u001b[0m\u001b[0;34m\u001b[0m\u001b[0m\n\u001b[0;32m--> 405\u001b[0;31m                 \u001b[0;32myield\u001b[0m \u001b[0;32mfrom\u001b[0m \u001b[0mchunks\u001b[0m\u001b[0;34m\u001b[0m\u001b[0;34m\u001b[0m\u001b[0m\n\u001b[0m\u001b[1;32m    406\u001b[0m         \u001b[0;32mif\u001b[0m \u001b[0mnewline_indent\u001b[0m \u001b[0;32mis\u001b[0m \u001b[0;32mnot\u001b[0m \u001b[0;32mNone\u001b[0m\u001b[0;34m:\u001b[0m\u001b[0;34m\u001b[0m\u001b[0;34m\u001b[0m\u001b[0m\n\u001b[1;32m    407\u001b[0m             \u001b[0m_current_indent_level\u001b[0m \u001b[0;34m-=\u001b[0m \u001b[0;36m1\u001b[0m\u001b[0;34m\u001b[0m\u001b[0;34m\u001b[0m\u001b[0m\n",
      "\u001b[0;32m/usr/lib/python3.8/json/encoder.py\u001b[0m in \u001b[0;36m_iterencode\u001b[0;34m(o, _current_indent_level)\u001b[0m\n\u001b[1;32m    436\u001b[0m                     \u001b[0;32mraise\u001b[0m \u001b[0mValueError\u001b[0m\u001b[0;34m(\u001b[0m\u001b[0;34m\"Circular reference detected\"\u001b[0m\u001b[0;34m)\u001b[0m\u001b[0;34m\u001b[0m\u001b[0;34m\u001b[0m\u001b[0m\n\u001b[1;32m    437\u001b[0m                 \u001b[0mmarkers\u001b[0m\u001b[0;34m[\u001b[0m\u001b[0mmarkerid\u001b[0m\u001b[0;34m]\u001b[0m \u001b[0;34m=\u001b[0m \u001b[0mo\u001b[0m\u001b[0;34m\u001b[0m\u001b[0;34m\u001b[0m\u001b[0m\n\u001b[0;32m--> 438\u001b[0;31m             \u001b[0mo\u001b[0m \u001b[0;34m=\u001b[0m \u001b[0m_default\u001b[0m\u001b[0;34m(\u001b[0m\u001b[0mo\u001b[0m\u001b[0;34m)\u001b[0m\u001b[0;34m\u001b[0m\u001b[0;34m\u001b[0m\u001b[0m\n\u001b[0m\u001b[1;32m    439\u001b[0m             \u001b[0;32myield\u001b[0m \u001b[0;32mfrom\u001b[0m \u001b[0m_iterencode\u001b[0m\u001b[0;34m(\u001b[0m\u001b[0mo\u001b[0m\u001b[0;34m,\u001b[0m \u001b[0m_current_indent_level\u001b[0m\u001b[0;34m)\u001b[0m\u001b[0;34m\u001b[0m\u001b[0;34m\u001b[0m\u001b[0m\n\u001b[1;32m    440\u001b[0m             \u001b[0;32mif\u001b[0m \u001b[0mmarkers\u001b[0m \u001b[0;32mis\u001b[0m \u001b[0;32mnot\u001b[0m \u001b[0;32mNone\u001b[0m\u001b[0;34m:\u001b[0m\u001b[0;34m\u001b[0m\u001b[0;34m\u001b[0m\u001b[0m\n",
      "\u001b[0;32m/usr/lib/python3.8/json/encoder.py\u001b[0m in \u001b[0;36mdefault\u001b[0;34m(self, o)\u001b[0m\n\u001b[1;32m    177\u001b[0m \u001b[0;34m\u001b[0m\u001b[0m\n\u001b[1;32m    178\u001b[0m         \"\"\"\n\u001b[0;32m--> 179\u001b[0;31m         raise TypeError(f'Object of type {o.__class__.__name__} '\n\u001b[0m\u001b[1;32m    180\u001b[0m                         f'is not JSON serializable')\n\u001b[1;32m    181\u001b[0m \u001b[0;34m\u001b[0m\u001b[0m\n",
      "\u001b[0;31mTypeError\u001b[0m: Object of type set is not JSON serializable"
     ]
    }
   ],
   "source": [
    "with open('/home/teijehidde/Documents/Git Blog and Coding/Project one (wikipedia SNA)/Code/test.json', 'w') as outfile:\n",
    "    json.dump(test, outfile)"
   ]
  },
  {
   "cell_type": "code",
   "execution_count": null,
   "metadata": {},
   "outputs": [],
   "source": []
  }
 ]
}