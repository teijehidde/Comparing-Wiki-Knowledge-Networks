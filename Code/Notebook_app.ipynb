{
 "metadata": {
  "language_info": {
   "codemirror_mode": {
    "name": "ipython",
    "version": 3
   },
   "file_extension": ".py",
   "mimetype": "text/x-python",
   "name": "python",
   "nbconvert_exporter": "python",
   "pygments_lexer": "ipython3",
   "version": "3.8.10"
  },
  "orig_nbformat": 2,
  "kernelspec": {
   "name": "python3",
   "display_name": "Python 3.8.10 64-bit"
  },
  "interpreter": {
   "hash": "31f2aee4e71d21fbe5cf8b01ff0e069b9275f58929596ceb00d14d90e3e16cd6"
  }
 },
 "nbformat": 4,
 "nbformat_minor": 2,
 "cells": [
  {
   "cell_type": "code",
   "execution_count": 1,
   "source": [
    "# Setup packages \n",
    "from collections import Counter\n",
    "from dash_bootstrap_components._components.Row import Row\n",
    "import pandas as pd\n",
    "import numpy as np\n",
    "import networkx as nx\n",
    "from networkx.algorithms.community import greedy_modularity_communities\n",
    "import networkx.algorithms\n",
    "import networkx.utils # (algorithms to check out: \"approximation\", \"eccentricity\", \"diameter\", \"radius\", \"periphery\", \"center\", \"barycenter\", \"Community\" \"degree_centrality\", \"constraint\", \"local_constraint\", \"effective_size\") \n",
    "\n",
    "# Dash packages needed for building dash app \n",
    "\n",
    "import dash\n",
    "import dash_core_components as dcc\n",
    "import dash_bootstrap_components as dbc\n",
    "import dash_html_components as html\n",
    "import dash_cytoscape as cyto\n",
    "import dash_table\n",
    "from dash.dependencies import Input, Output, State\n",
    "from dash.exceptions import PreventUpdate\n",
    "\n",
    "# setup layout and paths\n",
    "path = \"/home/teijehidde/Documents/Git Blog and Coding/\"\n",
    "data_file = \"data_dump/data_new2.json\" \n",
    "external_stylesheets = path + 'Comparing Wikipedia Knowledge Networks (Network Analysis Page links)/Code/stylesheet.css' # downloaded from: https://codepen.io/chriddyp/pen/bWLwgP.css. Should appear in credits! \n",
    "app = dash.Dash(external_stylesheets=[dbc.themes.BOOTSTRAP])\n",
    "styles = {\n",
    "    'pre': {\n",
    "        'border': 'thin lightgrey solid',\n",
    "        'overflowX': 'scroll'\n",
    "    }\n",
    "}\n",
    "colors = {\n",
    "    'background': 'white', # use color coding later. \n",
    "    'text': 'gray'\n",
    "}\n",
    "list_colours = ['red', 'blue', 'purple','orange','green','olive', 'maroon', 'brown','lime','teal' ]"
   ],
   "outputs": [],
   "metadata": {}
  },
  {
   "cell_type": "code",
   "execution_count": 6,
   "source": [
    "# loading data. \n",
    "network_data_df = pd.read_json((path + data_file), orient='split')\n",
    "all_networks = network_data_df.loc[network_data_df['langlinks'].notnull()].loc[network_data_df['lang'] == 'en']['title'].values.tolist()\n",
    "# new version: all_networks = network_data_df.loc[network_data_df['ego'] == True].loc[network_data_df['lang'] == 'en']['title'].values.tolist()"
   ],
   "outputs": [],
   "metadata": {}
  },
  {
   "cell_type": "code",
   "execution_count": 7,
   "source": [
    "# setting up classes WikiNode and WikiNetwork. \n",
    "class WikiNode:\n",
    "    def __init__(self, node_title, lang, network_data):\n",
    "\n",
    "        node_data = network_data.loc[network_data['title'] == node_title].loc[network_data['lang'] == lang]\n",
    "        \n",
    "        self.node_title = node_data[['title']].iloc[0,0] # iloc[0,0] needed because there can be two instance of same wikipage in the dataframe: one as centralnode (with langlinks) and one as a normal node of other network (without langlinks).  \n",
    "        self.node_ID = node_data[['uniqueid']].iloc[0,0]\n",
    "        self.node_links = node_data[['links']].iloc[0,0]\n",
    "        self.node_lang = node_data[['lang']].iloc[0,0]"
   ],
   "outputs": [],
   "metadata": {}
  },
  {
   "cell_type": "code",
   "execution_count": 63,
   "source": [
    "class WikiNetwork(WikiNode):\n",
    "   \n",
    "    def __init__(self, node_title, lang, threshold = 0):\n",
    "        \n",
    "        WikiNode.__init__(self, node_title, lang, network_data = network_data_df)\n",
    "        self.threshold = threshold\n",
    "        self.network_nodes = {}\n",
    "        self.network_links = [node_title]\n",
    "        self.network_edges = [] \n",
    "        self.network_status = []\n",
    "        \n",
    "        # Go through node_links of the central node (node_title) to build network.\n",
    "        for link in self.node_links + [self.node_title]:\n",
    "            try: \n",
    "                Node2 = WikiNode(link, lang, network_data = network_data_df) # NB: the links are not always in the same language as the network. It throws an error as result. - for now it just skips. \n",
    "                purged_links = [x for x in Node2.node_links if x in self.node_links]\n",
    "                purged_edges = []\n",
    "                for purged_link in purged_links:\n",
    "                    purged_edges.append((link,purged_link))  \n",
    "                self.network_nodes[Node2.node_ID] = Node2\n",
    "                self.network_links = self.network_links + purged_links\n",
    "                self.network_edges = self.network_edges + purged_edges\n",
    "            except: \n",
    "                pass\n",
    "        self.links_count = Counter(self.network_links)\n",
    "\n",
    "    def getNodes(self, type=\"cytoscape\"):\n",
    "        selected_nodes = [k for k,v in self.links_count.items() if float(v) >= self.threshold]\n",
    "        \n",
    "        if type == 'networkx':\n",
    "            return [(i, {\"name\": i}) for i in selected_nodes]\n",
    "        if type == 'cytoscape':\n",
    "            return [{'data': {'id': i, \"label\": i}} for i in selected_nodes]\n",
    "\n",
    "    def getEdges(self,type=\"cytoscape\"):  \n",
    "        selected_nodes = [k for k,v in self.links_count.items() if float(v) >= self.threshold]\n",
    "        edges_network = [(a,b) for a,b in self.network_edges if a in selected_nodes and b in selected_nodes]\n",
    "        \n",
    "        if type == 'networkx':\n",
    "            return edges_network\n",
    "        if type == 'cytoscape':\n",
    "            return [{'data': {'source': a, \"target\": b}} for a,b in edges_network]\n",
    "\n",
    "    def getCommunities(self):  \n",
    "        G = nx.Graph()\n",
    "        G.add_edges_from(self.getEdges(type = 'networkx'))\n",
    "        communities = greedy_modularity_communities(G)\n",
    "\n",
    "        result = []\n",
    "        for number in range(len(communities)): \n",
    "            result = result + [{i: number} for i in list(communities[number])] \n",
    "\n",
    "        return result\n",
    "\n",
    "    def getStatsNodes(self):\n",
    "        G = nx.Graph()\n",
    "        G.add_edges_from(self.getEdges(type = 'networkx'))\n",
    "        communities = greedy_modularity_communities(G)\n",
    "        degree_centrality_nodes = networkx.algorithms.centrality.degree_centrality(G)\n",
    "        eccentricity_nodes = networkx.algorithms.distance_measures.eccentricity(G)\n",
    "        dict_communities = {key:value for value in range(len(communities)) for key in communities[value] }\n",
    "\n",
    "        df = pd.DataFrame({'degree_centrality':pd.Series(degree_centrality_nodes), 'eccentricity':pd.Series(eccentricity_nodes), 'community':pd.Series(dict_communities)}) \n",
    "\n",
    "        val_max = max(df['degree_centrality'])\n",
    "        val_min = min(df['degree_centrality'])\n",
    "        df[['normalized_centrality']] = df[['degree_centrality']].apply(lambda x: (x - val_min) / (val_max - val_min), result_type = 'expand')\n",
    "        df[['degree_centrality_rounded']] = df[['degree_centrality']].apply(lambda x: round(x, 2))\n",
    "\n",
    "        return df"
   ],
   "outputs": [],
   "metadata": {}
  },
  {
   "cell_type": "code",
   "execution_count": 19,
   "source": [
    "node_title = 'Vacuna'\n",
    "lang = 'es'\n",
    "network_data = network_data_df\n",
    "\n",
    "node_data = network_data.loc[network_data['title'] == node_title].loc[network_data['lang'] == lang]\n"
   ],
   "outputs": [],
   "metadata": {}
  },
  {
   "cell_type": "code",
   "execution_count": 64,
   "source": [
    "wiki_page = WikiNetwork('Vacuna', 'es')"
   ],
   "outputs": [],
   "metadata": {}
  },
  {
   "cell_type": "code",
   "execution_count": 65,
   "source": [
    "stats_nodes = wiki_page.getStatsNodes()"
   ],
   "outputs": [],
   "metadata": {}
  },
  {
   "cell_type": "code",
   "execution_count": 66,
   "source": [
    "set(stats_nodes['community'].tolist())"
   ],
   "outputs": [
    {
     "output_type": "execute_result",
     "data": {
      "text/plain": [
       "{0, 1, 2, 3, 4}"
      ]
     },
     "metadata": {},
     "execution_count": 66
    }
   ],
   "metadata": {}
  },
  {
   "cell_type": "code",
   "execution_count": 74,
   "source": [
    "[stats_nodes.loc[stats_nodes['community'] == int(number)].loc[stats_nodes['degree_centrality'] == max(stats_nodes['degree_centrality'].loc[stats_nodes['community'] == int(number)].tolist())] for number in set(stats_nodes['community'].tolist())]"
   ],
   "outputs": [
    {
     "output_type": "execute_result",
     "data": {
      "text/plain": [
       "[        degree_centrality  eccentricity  community  normalized_centrality  \\\n",
       " Vacuna                1.0             1          0                    1.0   \n",
       " \n",
       "         degree_centrality_rounded  \n",
       " Vacuna                        1.0  ,\n",
       "                         degree_centrality  eccentricity  community  \\\n",
       " Control de autoridades            0.84106             2          1   \n",
       " Wikidata                          0.84106             2          1   \n",
       " \n",
       "                         normalized_centrality  degree_centrality_rounded  \n",
       " Control de autoridades                   0.84                       0.84  \n",
       " Wikidata                                 0.84                       0.84  ,\n",
       "         degree_centrality  eccentricity  community  normalized_centrality  \\\n",
       " Cólera           0.152318             2          2               0.146667   \n",
       " \n",
       "         degree_centrality_rounded  \n",
       " Cólera                       0.15  ,\n",
       "                               degree_centrality  eccentricity  community  \\\n",
       " Experimentación con animales           0.119205             2          3   \n",
       " \n",
       "                               normalized_centrality  degree_centrality_rounded  \n",
       " Experimentación con animales               0.113333                       0.12  ,\n",
       "             degree_centrality  eccentricity  community  normalized_centrality  \\\n",
       " Jonas Salk            0.10596             2          4                    0.1   \n",
       " \n",
       "             degree_centrality_rounded  \n",
       " Jonas Salk                       0.11  ]"
      ]
     },
     "metadata": {},
     "execution_count": 74
    }
   ],
   "metadata": {}
  },
  {
   "cell_type": "code",
   "execution_count": 55,
   "source": [
    "stats_nodes.loc[stats_nodes['community'] == 2]"
   ],
   "outputs": [
    {
     "output_type": "execute_result",
     "data": {
      "text/plain": [
       "            degree_centrality  eccentricity  community  normalized_centrality\n",
       "Afganistán               0.14             2          2               0.133333\n",
       "Cólera                   0.15             2          2               0.146667\n",
       "Pakistán                 0.15             2          2               0.140000"
      ],
      "text/html": [
       "<div>\n",
       "<style scoped>\n",
       "    .dataframe tbody tr th:only-of-type {\n",
       "        vertical-align: middle;\n",
       "    }\n",
       "\n",
       "    .dataframe tbody tr th {\n",
       "        vertical-align: top;\n",
       "    }\n",
       "\n",
       "    .dataframe thead th {\n",
       "        text-align: right;\n",
       "    }\n",
       "</style>\n",
       "<table border=\"1\" class=\"dataframe\">\n",
       "  <thead>\n",
       "    <tr style=\"text-align: right;\">\n",
       "      <th></th>\n",
       "      <th>degree_centrality</th>\n",
       "      <th>eccentricity</th>\n",
       "      <th>community</th>\n",
       "      <th>normalized_centrality</th>\n",
       "    </tr>\n",
       "  </thead>\n",
       "  <tbody>\n",
       "    <tr>\n",
       "      <th>Afganistán</th>\n",
       "      <td>0.14</td>\n",
       "      <td>2</td>\n",
       "      <td>2</td>\n",
       "      <td>0.133333</td>\n",
       "    </tr>\n",
       "    <tr>\n",
       "      <th>Cólera</th>\n",
       "      <td>0.15</td>\n",
       "      <td>2</td>\n",
       "      <td>2</td>\n",
       "      <td>0.146667</td>\n",
       "    </tr>\n",
       "    <tr>\n",
       "      <th>Pakistán</th>\n",
       "      <td>0.15</td>\n",
       "      <td>2</td>\n",
       "      <td>2</td>\n",
       "      <td>0.140000</td>\n",
       "    </tr>\n",
       "  </tbody>\n",
       "</table>\n",
       "</div>"
      ]
     },
     "metadata": {},
     "execution_count": 55
    }
   ],
   "metadata": {}
  },
  {
   "cell_type": "code",
   "execution_count": 47,
   "source": [
    "stats_nodes.loc[stats_nodes['degree_centrality'] == max(stats_nodes['degree_centrality'].tolist())].index "
   ],
   "outputs": [
    {
     "output_type": "execute_result",
     "data": {
      "text/plain": [
       "Index(['Vacuna'], dtype='object')"
      ]
     },
     "metadata": {},
     "execution_count": 47
    }
   ],
   "metadata": {}
  },
  {
   "cell_type": "code",
   "execution_count": 41,
   "source": [
    "val_max = max(stats_nodes['degree_centrality'])\n",
    "val_min = min(stats_nodes['degree_centrality'])\n",
    "\n",
    "stats_nodes[['normalized_centrality']] = stats_nodes[['degree_centrality']].apply(lambda x: (x - val_min) / (val_max - val_min), result_type = 'expand')\n",
    "# pd.concat([pd_nodes, stats_nodes], axis = 1)\n"
   ],
   "outputs": [],
   "metadata": {}
  },
  {
   "cell_type": "code",
   "execution_count": 43,
   "source": [
    "stats_nodes"
   ],
   "outputs": [
    {
     "output_type": "execute_result",
     "data": {
      "text/plain": [
       "                                                    degree_centrality  \\\n",
       "2009 swine flu pandemic vaccine                              0.328767   \n",
       "2017 Democratic Republic of the Congo Ebola vir...           0.015411   \n",
       "ABC News (Australia)                                         0.003425   \n",
       "ACE inhibitor                                                0.294521   \n",
       "AIDS                                                         0.029110   \n",
       "...                                                               ...   \n",
       "Yellow fever vaccine                                         0.166096   \n",
       "Yersinia pestis                                              0.011986   \n",
       "Zika virus                                                   0.013699   \n",
       "Zika virus vaccine                                           0.162671   \n",
       "Zoster vaccine                                               0.167808   \n",
       "\n",
       "                                                    eccentricity  community  \\\n",
       "2009 swine flu pandemic vaccine                                3          0   \n",
       "2017 Democratic Republic of the Congo Ebola vir...             4          0   \n",
       "ABC News (Australia)                                           5          3   \n",
       "ACE inhibitor                                                  4          1   \n",
       "AIDS                                                           4          0   \n",
       "...                                                          ...        ...   \n",
       "Yellow fever vaccine                                           4          0   \n",
       "Yersinia pestis                                                4          0   \n",
       "Zika virus                                                     4          0   \n",
       "Zika virus vaccine                                             4          0   \n",
       "Zoster vaccine                                                 4          0   \n",
       "\n",
       "                                                    normalized_centrality  \n",
       "2009 swine flu pandemic vaccine                                  0.545714  \n",
       "2017 Democratic Republic of the Congo Ebola vir...               0.022857  \n",
       "ABC News (Australia)                                             0.002857  \n",
       "ACE inhibitor                                                    0.488571  \n",
       "AIDS                                                             0.045714  \n",
       "...                                                                   ...  \n",
       "Yellow fever vaccine                                             0.274286  \n",
       "Yersinia pestis                                                  0.017143  \n",
       "Zika virus                                                       0.020000  \n",
       "Zika virus vaccine                                               0.268571  \n",
       "Zoster vaccine                                                   0.277143  \n",
       "\n",
       "[585 rows x 4 columns]"
      ],
      "text/html": [
       "<div>\n",
       "<style scoped>\n",
       "    .dataframe tbody tr th:only-of-type {\n",
       "        vertical-align: middle;\n",
       "    }\n",
       "\n",
       "    .dataframe tbody tr th {\n",
       "        vertical-align: top;\n",
       "    }\n",
       "\n",
       "    .dataframe thead th {\n",
       "        text-align: right;\n",
       "    }\n",
       "</style>\n",
       "<table border=\"1\" class=\"dataframe\">\n",
       "  <thead>\n",
       "    <tr style=\"text-align: right;\">\n",
       "      <th></th>\n",
       "      <th>degree_centrality</th>\n",
       "      <th>eccentricity</th>\n",
       "      <th>community</th>\n",
       "      <th>normalized_centrality</th>\n",
       "    </tr>\n",
       "  </thead>\n",
       "  <tbody>\n",
       "    <tr>\n",
       "      <th>2009 swine flu pandemic vaccine</th>\n",
       "      <td>0.328767</td>\n",
       "      <td>3</td>\n",
       "      <td>0</td>\n",
       "      <td>0.545714</td>\n",
       "    </tr>\n",
       "    <tr>\n",
       "      <th>2017 Democratic Republic of the Congo Ebola virus outbreak</th>\n",
       "      <td>0.015411</td>\n",
       "      <td>4</td>\n",
       "      <td>0</td>\n",
       "      <td>0.022857</td>\n",
       "    </tr>\n",
       "    <tr>\n",
       "      <th>ABC News (Australia)</th>\n",
       "      <td>0.003425</td>\n",
       "      <td>5</td>\n",
       "      <td>3</td>\n",
       "      <td>0.002857</td>\n",
       "    </tr>\n",
       "    <tr>\n",
       "      <th>ACE inhibitor</th>\n",
       "      <td>0.294521</td>\n",
       "      <td>4</td>\n",
       "      <td>1</td>\n",
       "      <td>0.488571</td>\n",
       "    </tr>\n",
       "    <tr>\n",
       "      <th>AIDS</th>\n",
       "      <td>0.029110</td>\n",
       "      <td>4</td>\n",
       "      <td>0</td>\n",
       "      <td>0.045714</td>\n",
       "    </tr>\n",
       "    <tr>\n",
       "      <th>...</th>\n",
       "      <td>...</td>\n",
       "      <td>...</td>\n",
       "      <td>...</td>\n",
       "      <td>...</td>\n",
       "    </tr>\n",
       "    <tr>\n",
       "      <th>Yellow fever vaccine</th>\n",
       "      <td>0.166096</td>\n",
       "      <td>4</td>\n",
       "      <td>0</td>\n",
       "      <td>0.274286</td>\n",
       "    </tr>\n",
       "    <tr>\n",
       "      <th>Yersinia pestis</th>\n",
       "      <td>0.011986</td>\n",
       "      <td>4</td>\n",
       "      <td>0</td>\n",
       "      <td>0.017143</td>\n",
       "    </tr>\n",
       "    <tr>\n",
       "      <th>Zika virus</th>\n",
       "      <td>0.013699</td>\n",
       "      <td>4</td>\n",
       "      <td>0</td>\n",
       "      <td>0.020000</td>\n",
       "    </tr>\n",
       "    <tr>\n",
       "      <th>Zika virus vaccine</th>\n",
       "      <td>0.162671</td>\n",
       "      <td>4</td>\n",
       "      <td>0</td>\n",
       "      <td>0.268571</td>\n",
       "    </tr>\n",
       "    <tr>\n",
       "      <th>Zoster vaccine</th>\n",
       "      <td>0.167808</td>\n",
       "      <td>4</td>\n",
       "      <td>0</td>\n",
       "      <td>0.277143</td>\n",
       "    </tr>\n",
       "  </tbody>\n",
       "</table>\n",
       "<p>585 rows × 4 columns</p>\n",
       "</div>"
      ]
     },
     "metadata": {},
     "execution_count": 43
    }
   ],
   "metadata": {}
  },
  {
   "cell_type": "code",
   "execution_count": null,
   "source": [],
   "outputs": [],
   "metadata": {}
  }
 ]
}