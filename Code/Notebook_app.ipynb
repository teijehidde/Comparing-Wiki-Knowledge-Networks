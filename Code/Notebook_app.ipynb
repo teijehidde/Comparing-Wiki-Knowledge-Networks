{
 "metadata": {
  "language_info": {
   "codemirror_mode": {
    "name": "ipython",
    "version": 3
   },
   "file_extension": ".py",
   "mimetype": "text/x-python",
   "name": "python",
   "nbconvert_exporter": "python",
   "pygments_lexer": "ipython3",
   "version": "3.8.5"
  },
  "orig_nbformat": 2,
  "kernelspec": {
   "name": "python385jvsc74a57bd031f2aee4e71d21fbe5cf8b01ff0e069b9275f58929596ceb00d14d90e3e16cd6",
   "display_name": "Python 3.8.5 64-bit"
  }
 },
 "nbformat": 4,
 "nbformat_minor": 2,
 "cells": [
  {
   "cell_type": "code",
   "execution_count": 78,
   "metadata": {},
   "outputs": [],
   "source": [
    "# Setup \n",
    "from flask import Flask, render_template, request\n",
    "import os\n",
    "import pygraphviz as pgv\n",
    "import networkx as nx\n",
    "import requests\n",
    "import json\n",
    "\n",
    "PATH = '/home/teijehidde/Documents/Git Blog and Coding/Project one (wikipedia SNA)/Code/'\n",
    "DATA_FILE = 'networkdata.json'\n",
    "WIKI_URL = \"https://en.wikipedia.org\"\n",
    "API_ENDPOINT = WIKI_URL + \"/w/api.php\"\n",
    "LIMIT_LINKS_PER_NODE = 500\n",
    "LIMIT_API_REQUESTS = 100"
   ]
  },
  {
   "cell_type": "code",
   "execution_count": 168,
   "metadata": {},
   "outputs": [],
   "source": [
    "# Function A: load data node_title from data file. \n",
    "def loadNode(node_title):\n",
    "\n",
    "    try:\n",
    "        with open(PATH + DATA_FILE) as json_file:\n",
    "            network_data = json.load(json_file)\n",
    "            return network_data[node_title]\n",
    "    except IOError:\n",
    "        print(\"Error: Could not find \" + DATA_FILE + \". Please check if file is present in directory, or change DATA_FILE value.\")\n",
    "    else: \n",
    "        print(\"The file \" + DATA_FILE + \" found, succesfully loaded.\")"
   ]
  },
  {
   "cell_type": "code",
   "execution_count": 169,
   "metadata": {},
   "outputs": [],
   "source": [
    "# Function B: download data node_title from Wikimedia API\n",
    "def downloadNode(node_title):\n",
    "    \n",
    "    # setup \n",
    "    edges = []\n",
    "\n",
    "    # requesting data via wikimedia API.  \n",
    "    S = requests.Session()\n",
    "    PARAMS = {\n",
    "        \"action\": \"query\",\n",
    "        \"format\": \"json\",\n",
    "        \"titles\": node_title,\n",
    "        \"prop\": \"links\",\n",
    "        # \"plcontinue\": ,\n",
    "        \"plnamespace\": 0, # only load wikipedia main/articles. \n",
    "        \"pllimit\": 'max' # can go up to 500. Go for max? \n",
    "    }\n",
    "    response = S.get(url=API_ENDPOINT, params=PARAMS)\n",
    "\n",
    "    # Transforming response to network data format + error handling.  \n",
    "    data_wiki = response.json()\n",
    "    node = next(iter(data_wiki['query']['pages']))\n",
    "    \n",
    "    try: \n",
    "        for x in data_wiki['query']['pages'][node]['links']:\n",
    "            edges.append(x['title'])\n",
    "            \n",
    "        node_data = {'node_ID': node, 'ego': 0, 'date_time': 'TODO', 'edges': edges, 'revisions': 'TODO'}\n",
    "        network_data[node_title] = node_data\n",
    "    except:\n",
    "        print(\"Error: an exception occured while downloading \" + node_title + \".\")\n",
    "    else: \n",
    "        print(\"Links data on page \" + node_title + \" successfully downloaded.\")\n",
    "        return network_data[node_title]\n",
    "        with open(PATH + DATA_FILE, 'w') as outfile:\n",
    "            json.dump(network_data, outfile)\n",
    "            print(\"Data succesfully downloaded and saved.\")\n",
    "\n",
    "    # sleep(0.5)"
   ]
  },
  {
   "cell_type": "code",
   "execution_count": 170,
   "metadata": {},
   "outputs": [],
   "source": [
    "# initiate class nodes. \n",
    "class Node:\n",
    "    def __init__(self,node_title):\n",
    "        self.title = node_title\n",
    "        try: \n",
    "            self.nodes = loadNode(node_title)['edges']\n",
    "        except: \n",
    "            self.nodes = []\n",
    "            print(\"Data on \" + node_title + \" not available in \"  + DATA_FILE + \". Node returned empty\")\n",
    "        \n",
    "    def getEdges(self):\n",
    "        try: \n",
    "            x = {}\n",
    "            for item in self.nodes: \n",
    "                x[item] = None\n",
    "            return x\n",
    "        except TypeError:\n",
    "            return \"Error: \" + self.title + \" is an empty node.\"\n",
    "\n",
    "    def getUpdate(self): \n",
    "        try:\n",
    "            self.nodes = downloadNode(self.title)['edges']\n",
    "        except:\n",
    "            self.nodes = None\n",
    "            print(\"This title does not seem to exist on \" + WIKI_URL + \".\")\n"
   ]
  },
  {
   "cell_type": "code",
   "execution_count": 171,
   "metadata": {},
   "outputs": [],
   "source": [
    "class Network(Node):\n",
    "    def __init__(self, node_title):\n",
    "        Node.__init__(self, node_title)\n",
    "\n",
    "    def getNodesNetwork(self):\n",
    "        nodes_network = set() \n",
    "        for item in self.nodes: \n",
    "            x = Node(item)\n",
    "            nodes_network = nodes_network | set(x.nodes)\n",
    "        return nodes_network\n",
    "\n",
    "    def getEdgesNetwork(self):\n",
    "        edges_network = {} \n",
    "        for item in self.nodes: \n",
    "            x = Node(item)\n",
    "            edges_network[item] = x.getEdges()\n",
    "        return edges_network\n"
   ]
  },
  {
   "cell_type": "code",
   "execution_count": 172,
   "metadata": {},
   "outputs": [],
   "source": [
    "terrorism_network = Network(\"Terrorism\")"
   ]
  },
  {
   "cell_type": "code",
   "execution_count": 173,
   "metadata": {},
   "outputs": [
    {
     "output_type": "stream",
     "name": "stdout",
     "text": [
      "Data on Allied of World War II not available in networkdata.json. Node returned empty\n",
      "Data on Dawabsheh not available in networkdata.json. Node returned empty\n",
      "Data on International Journal of Disaster Medicine not available in networkdata.json. Node returned empty\n"
     ]
    }
   ],
   "source": [
    "test = terrorism_network.getEdgesNetwork() "
   ]
  },
  {
   "cell_type": "code",
   "execution_count": null,
   "metadata": {},
   "outputs": [],
   "source": [
    "type(test)"
   ]
  },
  {
   "cell_type": "code",
   "execution_count": 180,
   "metadata": {},
   "outputs": [
    {
     "output_type": "execute_result",
     "data": {
      "text/plain": [
       "500"
      ]
     },
     "metadata": {},
     "execution_count": 180
    }
   ],
   "source": [
    "G = pgv.AGraph(test)\n",
    "# s = G.string()\n",
    "G.write(PATH + \"test.dot\") \n",
    "G.layout(prog=\"dot\") \n",
    "G.draw(PATH + \"test.png\")"
   ]
  },
  {
   "cell_type": "code",
   "execution_count": null,
   "metadata": {},
   "outputs": [],
   "source": []
  }
 ]
}