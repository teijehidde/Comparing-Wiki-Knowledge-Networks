{
 "metadata": {
  "language_info": {
   "codemirror_mode": {
    "name": "ipython",
    "version": 3
   },
   "file_extension": ".py",
   "mimetype": "text/x-python",
   "name": "python",
   "nbconvert_exporter": "python",
   "pygments_lexer": "ipython3",
   "version": "3.8.5"
  },
  "orig_nbformat": 2,
  "kernelspec": {
   "name": "python385jvsc74a57bd031f2aee4e71d21fbe5cf8b01ff0e069b9275f58929596ceb00d14d90e3e16cd6",
   "display_name": "Python 3.8.5 64-bit"
  }
 },
 "nbformat": 4,
 "nbformat_minor": 2,
 "cells": [
  {
   "cell_type": "code",
   "execution_count": 386,
   "metadata": {},
   "outputs": [],
   "source": [
    "# Setup \n",
    "from flask import Flask, render_template, request\n",
    "import os\n",
    "import pygraphviz as pgv\n",
    "from pyvis.network import Network\n",
    "import networkx as nx\n",
    "import requests\n",
    "import json\n",
    "\n",
    "PATH = \"/home/teijehidde/Documents/Git Blog and Coding/Project one (wikipedia SNA)/Code/\"\n",
    "DATA_FILE = \"networkdata3.json\"\n",
    "WIKI_URL = \"https://en.wikipedia.org\"\n",
    "API_ENDPOINT = WIKI_URL + \"/w/api.php\"\n",
    "LIMIT_LINKS_PER_NODE = 500\n",
    "LIMIT_API_REQUESTS = 100"
   ]
  },
  {
   "cell_type": "code",
   "execution_count": 387,
   "metadata": {},
   "outputs": [],
   "source": [
    "# Function A: load data node_title from data file. \n",
    "def loadNode(node_title):\n",
    "\n",
    "    try:\n",
    "        with open(PATH + DATA_FILE) as json_file:\n",
    "            global network_data \n",
    "            network_data = json.load(json_file)\n",
    "            return network_data[node_title]\n",
    "    except IOError:\n",
    "        print(\"Error: Could not find \" + DATA_FILE + \". Please check if file is present in directory, or change DATA_FILE value.\")\n",
    "    else: \n",
    "        print(\"The file \" + DATA_FILE + \" found, succesfully loaded.\")\n",
    "\n",
    "# global network_data\n",
    "  #          network_data = json.load(json_file)"
   ]
  },
  {
   "cell_type": "code",
   "execution_count": 388,
   "metadata": {},
   "outputs": [],
   "source": [
    "# Function B: download data node_title from Wikimedia API\n",
    "def downloadNode(node_title):\n",
    "\n",
    "    # setup \n",
    "    links_wiki = []\n",
    "\n",
    "    # requesting data via wikimedia API.  \n",
    "    S = requests.Session()\n",
    "    PARAMS = {\n",
    "        \"action\": \"query\",\n",
    "        \"format\": \"json\",\n",
    "        \"titles\": node_title,\n",
    "        \"prop\": \"links\",\n",
    "        # \"plcontinue\": ,\n",
    "        \"plnamespace\": 0, # only load wikipedia main/articles. \n",
    "        \"pllimit\": 'max' # can go up to 500. Go for max? \n",
    "    }\n",
    "    response = S.get(url=API_ENDPOINT, params=PARAMS)\n",
    "\n",
    "    # Transforming response to network data format + error handling.  \n",
    "    data_wiki = response.json()\n",
    "    node = next(iter(data_wiki['query']['pages']))\n",
    "    \n",
    "    try: \n",
    "        for x in data_wiki['query']['pages'][node]['links']:\n",
    "            links_wiki.append(x['title'])\n",
    "                \n",
    "        node_data = {'status': 'alive', 'node_ID': node, 'links': links_wiki, 'timestamp': 'TODO', 'ego': 0, 'revisions': 'TODO'}\n",
    "        network_data[node_title] = node_data\n",
    "        return network_data[node_title]\n",
    "        \n",
    "    except:\n",
    "        node_data = {'status': 'dead', 'timestamp': 'TODO'}\n",
    "        network_data[node_title] = node_data\n",
    "        return network_data[node_title]\n",
    "    \n",
    "    finally:   \n",
    "        with open(PATH + DATA_FILE, 'w') as outfile:\n",
    "            json.dump(network_data, outfile)\n",
    "            print(\"Data succesfully saved. Wikipage name: \" + node_title + \". Status: \" + network_data[node_title]['status'] + \".\")\n"
   ]
  },
  {
   "cell_type": "code",
   "execution_count": 417,
   "metadata": {},
   "outputs": [],
   "source": [
    "# initiate class Node. \n",
    "class WikiNode:\n",
    "    def __init__(self,node_title):\n",
    "        self.title = node_title\n",
    "        self.status = 'empty'\n",
    "        self.links = []\n",
    "\n",
    "        try:\n",
    "            self.status = loadNode(node_title)['status']\n",
    "            if self.status == 'alive':\n",
    "                self.links = loadNode(node_title)['links']\n",
    "        except: \n",
    "            self.status = 'empty'\n",
    "\n",
    "    def downloadData(self):\n",
    "\n",
    "        if self.status == 'dead':\n",
    "            print(\"This title does not seem to exist on \" + WIKI_URL + \".\")\n",
    "        else:\n",
    "            downloadNode(self.title)\n",
    "            self.__init__(self.title)"
   ]
  },
  {
   "cell_type": "code",
   "execution_count": 498,
   "metadata": {},
   "outputs": [],
   "source": [
    "class WikiNetwork(WikiNode):\n",
    "    \n",
    "    def __init__(self,node_title):\n",
    "        WikiNode.__init__(self, node_title)\n",
    "        self.network_nodes = {}\n",
    "        self.network_nodes_count = {}\n",
    "        \n",
    "        if self.status == 'alive':\n",
    "            self.links.append(self.title)\n",
    "\n",
    "            for link in self.links:\n",
    "                self.network_nodes[link] = WikiNode(link)\n",
    "                self.network_nodes_count[link] = 1\n",
    "\n",
    "                if self.network_nodes[link].status == 'alive':\n",
    "                    for link2 in self.network_nodes[link].links:\n",
    "                        if link2 in self.links:\n",
    "                            self.network_nodes_count[link] = self.network_nodes_count[link] + 1\n",
    "\n",
    "    def statusNetwork(self): \n",
    "        total = len(self.network_nodes)\n",
    "        alive = 0\n",
    "        dead = 0\n",
    "        empty = 0\n",
    "        \n",
    "        for network_node in self.network_nodes:\n",
    "            if self.network_nodes[network_node].status == 'alive': \n",
    "                alive = alive + 1\n",
    "            if self.network_nodes[network_node].status == 'dead': \n",
    "                dead = dead + 1\n",
    "            if self.network_nodes[network_node].status == 'empty': \n",
    "                empty = empty + 1        \n",
    "\n",
    "        print(\"Total number of nodes is \" + str(total) + \".\")\n",
    "        print(\"The number of alive nodes is \" + str(alive) + \".\")\n",
    "        print(\"The number of dead nodes is \" + str(dead) + \".\")\n",
    "        print(\"The number of empty nodes is \" + str(empty) + \".\")\n",
    "        print(\"(sum is \" + str(alive + dead + empty) + \").\")\n",
    "\n",
    "\n",
    "    def downloadNetwork(self,callLimit): \n",
    "        if self.status != 'alive': \n",
    "            self.downloadData() \n",
    "\n",
    "        call = 0\n",
    "        for link in self.network_nodes:\n",
    "\n",
    "            if self.network_nodes[link].status == 'empty':\n",
    "                self.network_nodes[link].downloadData()\n",
    "                call = call + 1\n",
    "                if call >= callLimit: break \n",
    "\n",
    "    def getNodesEdges(self,threshold):\n",
    "        selected_nodes = [k for k,v in self.network_nodes_count.items() if float(v) >= threshold]\n",
    "\n",
    "        nodes_network = []\n",
    "        edges_network = []\n",
    "\n",
    "        for node in selected_nodes:\n",
    "            node_tuple = (node, {\"name\": node})\n",
    "            nodes_network.append(node_tuple)\n",
    "        \n",
    "        for node in selected_nodes:\n",
    "            x = WikiNode(node)\n",
    "            for link in x.links:\n",
    "                    if link in selected_nodes:\n",
    "                        edge_tuple = (node, link)\n",
    "                        edges_network.append(edge_tuple)\n",
    "\n",
    "        return (nodes_network,edges_network)\n"
   ]
  },
  {
   "cell_type": "code",
   "execution_count": 499,
   "metadata": {},
   "outputs": [],
   "source": [
    "def drawGraph(WikiNodesEdges):\n",
    "    \n",
    "    Graph = nx.Graph()\n",
    "\n",
    "    Graph.add_nodes_from(WikiNodesEdges[0])\n",
    "    Graph.add_edges_from(WikiNodesEdges[1])\n",
    "\n",
    "    netdraw = Network('2000px', '2000px')\n",
    "    netdraw.from_nx(Graph)\n",
    "    netdraw.barnes_hut()\n",
    "\n",
    "    netdraw.show(\"wikinetworkgraph.html\")"
   ]
  },
  {
   "cell_type": "code",
   "execution_count": 511,
   "metadata": {
    "tags": []
   },
   "outputs": [],
   "source": [
    "wikipedia_network = WikiNetwork('War_on_terror')"
   ]
  },
  {
   "cell_type": "code",
   "execution_count": 514,
   "metadata": {},
   "outputs": [
    {
     "output_type": "stream",
     "name": "stdout",
     "text": [
      "Total number of nodes is 501.\nThe number of alive nodes is 44.\nThe number of dead nodes is 0.\nThe number of empty nodes is 457.\n(sum is 501).\n"
     ]
    }
   ],
   "source": [
    "wikipedia_network.statusNetwork()"
   ]
  },
  {
   "cell_type": "code",
   "execution_count": 513,
   "metadata": {
    "tags": []
   },
   "outputs": [
    {
     "output_type": "stream",
     "name": "stdout",
     "text": [
      "Data succesfully saved. Wikipage name: War_on_terror. Status: alive.\n",
      "Data succesfully saved. Wikipage name: 10th Mountain Division. Status: alive.\n",
      "Data succesfully saved. Wikipage name: 11 April 2007 Algiers bombings. Status: alive.\n",
      "Data succesfully saved. Wikipage name: 16th Air Assault Brigade. Status: alive.\n",
      "Data succesfully saved. Wikipage name: 1838 Mormon War. Status: alive.\n",
      "Data succesfully saved. Wikipage name: 1983 Beirut barracks bombing. Status: alive.\n",
      "Data succesfully saved. Wikipage name: 1986 United States bombing of Libya. Status: alive.\n",
      "Data succesfully saved. Wikipage name: 1991–1992 South Ossetia War. Status: alive.\n",
      "Data succesfully saved. Wikipage name: 1992 Los Angeles riots. Status: alive.\n",
      "Data succesfully saved. Wikipage name: 1993 Russian constitutional crisis. Status: alive.\n",
      "Data succesfully saved. Wikipage name: 1993 World Trade Center bombing. Status: alive.\n"
     ]
    }
   ],
   "source": [
    "wikipedia_network.downloadNetwork(10)"
   ]
  },
  {
   "cell_type": "code",
   "execution_count": 502,
   "metadata": {},
   "outputs": [],
   "source": [
    "graph_data = wikipedia_network.getNodesEdges(5)"
   ]
  },
  {
   "cell_type": "code",
   "execution_count": 503,
   "metadata": {},
   "outputs": [],
   "source": [
    "drawGraph(graph_data) "
   ]
  },
  {
   "cell_type": "code",
   "execution_count": null,
   "metadata": {},
   "outputs": [],
   "source": []
  }
 ]
}