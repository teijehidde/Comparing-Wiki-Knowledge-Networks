{
 "metadata": {
  "language_info": {
   "codemirror_mode": {
    "name": "ipython",
    "version": 3
   },
   "file_extension": ".py",
   "mimetype": "text/x-python",
   "name": "python",
   "nbconvert_exporter": "python",
   "pygments_lexer": "ipython3",
   "version": "3.8.10"
  },
  "orig_nbformat": 2,
  "kernelspec": {
   "name": "python3",
   "display_name": "Python 3.8.10 64-bit"
  },
  "interpreter": {
   "hash": "31f2aee4e71d21fbe5cf8b01ff0e069b9275f58929596ceb00d14d90e3e16cd6"
  }
 },
 "nbformat": 4,
 "nbformat_minor": 2,
 "cells": [
  {
   "cell_type": "code",
   "execution_count": 1,
   "source": [
    "# Setup packages\n",
    "import os\n",
    "from itertools import chain\n",
    "from collections import Counter\n",
    "import collections \n",
    "import networkx as nx\n",
    "import requests\n",
    "import json\n",
    "import pandas as pd\n",
    "import numpy as np\n",
    "\n",
    "# all these network algorithms are currently being tried out. \n",
    "from networkx.algorithms import approximation\n",
    "from networkx.algorithms import community\n",
    "from networkx.algorithms.community import k_clique_communities\n",
    "from networkx.algorithms.community import greedy_modularity_communities\n",
    "\n",
    "# For network visualization: \n",
    "from pyvis.network import Network\n",
    "# use dynetx for dynamic network visualization? -- when I can download and incoporate revision history? \n",
    "\n",
    "PATH = \"/home/teijehidde/Documents/Git Blog and Coding/data_dump/\"\n",
    "DATA_FILE = \"DATA.json\" \n",
    "\n",
    "# Loading JSON file: \n",
    "with open(PATH + DATA_FILE) as json_file:\n",
    "    network_data = json.load(json_file)"
   ],
   "outputs": [],
   "metadata": {}
  },
  {
   "cell_type": "code",
   "execution_count": 2,
   "source": [
    "def SaveData(wiki_data, node_title, lang):\n",
    "    # step 1: transforming data from API into unified dictionary. \n",
    "    # 1a: creating list of available nodes. \n",
    "    all_nodes = []\n",
    "\n",
    "    for item in wiki_data:\n",
    "        all_nodes = all_nodes + list(item['query']['pages'].keys())\n",
    "    all_nodes = list(set(all_nodes))\n",
    "\n",
    "    # 1b: Using all_nodes to go through raw data from API -- in this case this should just by 1 node. \n",
    "    for node in all_nodes:\n",
    "        node_data = {'node_ID': node, 'title': '', 'links': [], 'ego': [], 'language': lang, 'AvailableLanguages': []}\n",
    "        \n",
    "        item_name = lang + node\n",
    "        if item_name in network_data.keys():\n",
    "            node_data = network_data[item_name]\n",
    "        \n",
    "        for item in wiki_data:\n",
    "            if node in item['query']['pages'].keys(): \n",
    "                node_data['title'] = item['query']['pages'][node]['title']\n",
    "\n",
    "                if 'links' in item['query']['pages'][node].keys():\n",
    "                    for link in item['query']['pages'][node]['links']: \n",
    "                        node_data['links'].append(link['title'])\n",
    "\n",
    "                if 'langlinks' in item['query']['pages'][node].keys():\n",
    "                    node_data['AvailableLanguages'] = item['query']['pages'][node]['langlinks']\n",
    "\n",
    "                node_data['ego'].append(node_title)\n",
    "        \n",
    "        node_data['ego'] = list(set(node_data['ego']))\n",
    "        \n",
    "        network_data[lang + node] = node_data\n",
    "\n",
    "    # Step 2: Saving data to json file. \n",
    "    try: \n",
    "        with open(PATH + DATA_FILE, 'w') as outfile:\n",
    "            json.dump(network_data, outfile)\n",
    "            print(\"Data succesfully saved. Wiki node name: \" + node_title + \"; downloaded in language: \" + lang + \".\")\n",
    "\n",
    "    except: \n",
    "        print(\"Something went wrong. Check code.\")\n",
    "\n",
    "# optional, for debugging: \n",
    "#   finally:\n",
    "#       return wiki_data\n"
   ],
   "outputs": [],
   "metadata": {}
  },
  {
   "cell_type": "code",
   "execution_count": 3,
   "source": [
    "# Function: download additional languages of ego network.\n",
    "def downloadAdditionalLanguage(node_title, original_lang, additional_langs = []): # \"de\", \"fr\", \"nl\"\n",
    "\n",
    "    # download data fro JSON file. \n",
    "    with open(PATH + DATA_FILE) as json_file:\n",
    "        network_data = json.load(json_file)\n",
    "    \n",
    "    # make a list of the language that are available for requested page. \n",
    "    available_languages = [v['AvailableLanguages'] for (k,v) in network_data.items() if v['title'] == node_title if v['language'] == original_lang][0]\n",
    "    list_available_languages = []\n",
    "    for item in available_languages: \n",
    "         list_available_languages.append(item['lang'])\n",
    "\n",
    "    # If no languages are requested, the function shows available languages. \n",
    "    if additional_langs == []:\n",
    "        pass\n",
    "\n",
    "    if additional_langs == [\"available_langs\"]:\n",
    "        print('The wikipedia page is available in the following languages:')         \n",
    "        print(list_available_languages)\n",
    "    \n",
    "    # Goes through avialble languages of a wikipedia page, and downloads those that were requested (using the downloadNetwork() function). \n",
    "    else:\n",
    "        for item in available_languages: \n",
    "            if item['lang'] in additional_langs:\n",
    "                downloadNetworks(node_title = item['*'], original_lang = item['lang'], additional_langs = [])\n",
    "    \n",
    "        print(\"Download of additional languages finished.\") \n"
   ],
   "outputs": [],
   "metadata": {}
  },
  {
   "cell_type": "code",
   "execution_count": 4,
   "source": [
    "# Function: download data on links from ALL PAGES linked to 'node_title' (but excluding node_title itself!) from Wikimedia API and save to json file.  \n",
    "def downloadNetworks(node_title, original_lang = \"en\", additional_langs = [\"ar\" \"de\", \"fr\", \"nl\"]): \n",
    "\n",
    "    # setup and load existing data node.\n",
    "    API_ENDPOINT = \"https://\" + original_lang + \".wikipedia.org/w/api.php\" # fr.wikipedia.org; https://en.wikipedia.org\n",
    "    wiki_data = []\n",
    "\n",
    "    # step 1: download data on the central node of the network (incl. available languages). \n",
    "    # setup API query and initial API call \n",
    "    S = requests.Session()\n",
    "    PARAMS = {\n",
    "        \"action\": \"query\",\n",
    "        \"titles\": node_title,\n",
    "        \"prop\": \"links|info|langlinks\",\n",
    "        \"plnamespace\": 0, \n",
    "        \"pllimit\": 500,\n",
    "        \"lllimit\": 500, \n",
    "        \"format\": \"json\"\n",
    "    }\n",
    "    response = S.get(url=API_ENDPOINT, params=PARAMS)\n",
    "    wiki_data.append(response.json())\n",
    "    \n",
    "    # Continue API call until all data on ego node has been downloaded. \n",
    "    while 'continue' in wiki_data[-1].keys():\n",
    "        \n",
    "        PARAMS_CONT = PARAMS\n",
    "        PARAMS_CONT[\"plcontinue\"] = wiki_data[-1]['continue']['plcontinue']\n",
    "\n",
    "        response = S.get(url=API_ENDPOINT, params=PARAMS_CONT)\n",
    "        wiki_data.append(response.json())\n",
    "\n",
    "    # step 2: use generator to download data on all additional nodes. \n",
    "    # setup API query for first generator API call (used to download data on all pages that are linked to node_title) \n",
    "    print(\"Downloading Wiki network name: \" + node_title + \" in language: \" + original_lang + \". Please note that this can take a while.\")\n",
    "    S = requests.Session()\n",
    "    PARAMS = {\n",
    "        \"action\": \"query\",\n",
    "        \"generator\": \"links\",\n",
    "        \"titles\": node_title,\n",
    "        \"gplnamespace\": 0, \n",
    "        \"gpllimit\": 500, \n",
    "        \"plnamespace\": 0,\n",
    "        \"pllimit\": 500, \n",
    "        \"prop\": \"links\",\n",
    "        \"format\": \"json\"\n",
    "    }\n",
    "    response = S.get(url=API_ENDPOINT, params=PARAMS)\n",
    "    wiki_data.append(response.json())\n",
    "\n",
    "    # Continue API call until all data on network is downloaded. \n",
    "    while 'continue' in wiki_data[-1].keys():\n",
    "\n",
    "        PARAMS_CONT = PARAMS\n",
    "        if 'plcontinue' in wiki_data[-1]['continue']:\n",
    "            PARAMS_CONT[\"plcontinue\"] = wiki_data[-1]['continue']['plcontinue'] \n",
    "\n",
    "        if 'gplcontinue' in wiki_data[-1]['continue']: \n",
    "            PARAMS_CONT[\"gplcontinue\"] = wiki_data[-1]['continue']['gplcontinue']\n",
    "\n",
    "        response = S.get(url=API_ENDPOINT, params = PARAMS_CONT)\n",
    "        wiki_data.append(response.json())\n",
    "\n",
    "    # step 3: transform and save data:  \n",
    "    SaveData(wiki_data, node_title=node_title, lang=original_lang)\n",
    "\n",
    "    # step 4: download additional languages: \n",
    "    downloadAdditionalLanguage(node_title = node_title, original_lang = original_lang, additional_langs = additional_langs)\n",
    "\n"
   ],
   "outputs": [],
   "metadata": {}
  },
  {
   "cell_type": "code",
   "execution_count": 5,
   "source": [
    "# function: provide titles of networks that are saved in the JSON file. Also provides the language they were saved in. \n",
    "def getDownloadedNetworks(): \n",
    "\n",
    "    # download data from JSON file. \n",
    "    with open(PATH + DATA_FILE) as json_file:\n",
    "        network_data = json.load(json_file)\n",
    "    \n",
    "    # create set of ego network names.  \n",
    "    downloaded_networks = [(v['ego']) for (k,v) in network_data.items()]\n",
    "    downloaded_networks = set(list(chain(*downloaded_networks)))\n",
    "    downloaded_networks = [v for (k,v) in network_data.items() if v['title'] in downloaded_networks]\n",
    "\n",
    "    # print names of ego networks and language that they have been downloaded in. \n",
    "    items = {}  \n",
    "    for network in downloaded_networks: \n",
    "        items[network['title'] + ' (' + network['language'] + ')'] = {'lang':  network['language'], '*': network['title']}    \n",
    "    return(items)"
   ],
   "outputs": [],
   "metadata": {}
  },
  {
   "cell_type": "code",
   "execution_count": 6,
   "source": [
    "# Initiate class Node. \n",
    "class WikiNode:\n",
    "    def __init__(self, node_title, lang):\n",
    "        \n",
    "        # Select node in JSON file (by title and language). \n",
    "        node_data = [v for (k,v) in network_data.items() if v['title'] == node_title if v['language'] == lang][0]\n",
    "        \n",
    "        # Extract data and place in instance of Wikinode class. \n",
    "        self.node_title = node_data['title']\n",
    "        self.node_ID = node_data['node_ID']\n",
    "        self.node_links = node_data['links']\n",
    "        self.node_lang = node_data['language']\n"
   ],
   "outputs": [],
   "metadata": {}
  },
  {
   "cell_type": "code",
   "execution_count": 7,
   "source": [
    "# Initiate class WikiNetwork\n",
    "class WikiNetwork(WikiNode):\n",
    "   \n",
    "    def __init__(self,node_title, lang):\n",
    "        \n",
    "        # initiate the central node of the network as class WikiNode, add additional attributes for class WikiNetwork \n",
    "        WikiNode.__init__(self, node_title, lang)\n",
    "        self.network_nodes = {}\n",
    "        self.network_links = []\n",
    "        self.network_edges = [] \n",
    "        self.network_status = []\n",
    "    \n",
    "        # Go through node_links of the central node (node_title) to build network.\n",
    "        for link in self.node_links:\n",
    "            try:     \n",
    "                Node2 = WikiNode(link, lang)             \n",
    "                purged_links = [x for x in Node2.node_links if x in self.node_links]\n",
    "                purged_edges = []\n",
    "                for purged_link in purged_links:\n",
    "                    purged_edges.append((link,purged_link))  \n",
    "                self.network_nodes[Node2.node_ID] = Node2\n",
    "                self.network_links = self.network_links + purged_links\n",
    "                self.network_edges = self.network_edges + purged_edges\n",
    "            except: \n",
    "                print('Loading of node ' + link + ' failed.')\n",
    "            self.links_count = Counter(self.network_links)\n",
    "\n",
    "    def getNodes(self, type=\"cytoscape\", threshold=0):\n",
    "        selected_nodes = [k for k,v in self.links_count.items() if float(v) >= threshold]\n",
    "        \n",
    "        if type == 'networkx':\n",
    "            return [(i, {\"name\": i}) for i in selected_nodes]\n",
    "\n",
    "        if type == 'cytoscape':\n",
    "            return [{'data': {'id': i, \"label\": i}} for i in selected_nodes]\n",
    "\n",
    "    def getEdges(self,type=\"cytoscape\", threshold=0):  \n",
    "        selected_nodes = [k for k,v in self.links_count.items() if float(v) >= threshold]\n",
    "        edges_network = [(a,b) for a,b in self.network_edges if a in selected_nodes and b in selected_nodes]\n",
    "\n",
    "        if type == 'networkx':\n",
    "            return edges_network\n",
    "\n",
    "        if type == 'cytoscape':\n",
    "            return [{'data': {'source': a, \"target\": b}} for a,b in edges_network]\n",
    "\n",
    "    def getStatsNetwork(self): \n",
    "        return(\"WIP\")\n",
    "        # TODO: return a dictionary with stats on network: \n",
    "        # - triangles\n",
    "        # - degree_centrality \n",
    "        # - ...\n",
    "\n",
    "    def getStatsNodes(self, nodes):\n",
    "        # TODO: return an numpy array with stats per node: \n",
    "        # - triangles\n",
    "        # - degree_centrality \n",
    "        # - ... \n",
    "        # if nodes == None: \n",
    "          #  node = self.node_links\n",
    "        return('WIP')\n",
    "    \n",
    "    def getNetworkCommunities(self,threshold=0):\n",
    "        # TODO: return an numpy array with stats per community. Add in an overall library.  \n",
    "        G = nx.Graph()\n",
    "        G.add_edges_from(self.getEdges(type = 'networkx', threshold= threshold))\n",
    "        \n",
    "        return greedy_modularity_communities(G)\n",
    "    \n",
    "    def drawGraph(self,threshold=0,name='no_name'):\n",
    "        G = nx.Graph()\n",
    "        G.add_edges_from(self.getEdges(threshold))\n",
    "\n",
    "        netdraw = Network('2000px', '2000px')\n",
    "        netdraw.from_nx(G)\n",
    "        netdraw.barnes_hut()\n",
    "\n",
    "        title = name + \".html\"\n",
    "        netdraw.show(title)\n"
   ],
   "outputs": [],
   "metadata": {}
  },
  {
   "cell_type": "code",
   "execution_count": 8,
   "source": [
    "# Class: a collection of wiki networks of the same topic, in different languages. Automatically takes all languages that have been downloaded before. \n",
    "class WikiNetworkCollection():\n",
    "\n",
    "        def __init__(self,chosen_networks):\n",
    "        \n",
    "                # make list available ego networks\n",
    "                all_downloaded_networks = getDownloadedNetworks()\n",
    "                available_languages = [v['AvailableLanguages'] for (k,v) in network_data.items() if v['title'] == node_title][0]\n",
    "                \n",
    "                topic_networks = []\n",
    "                topic_networks = [{'lang': original_language, '*': node_title}] + [v for v in available_languages if v in all_downloaded_networks]\n",
    "\n",
    "                # initiate tclass WikiNetwork for each available language.  \n",
    "                self.networks = {}\n",
    "                if topic_networks is not []:\n",
    "                        for network in topic_networks:\n",
    "                                self.networks[network['lang'] + '_' + network['*']] = WikiNetwork(node_title = network['*'], language = network['lang'])\n",
    "\n",
    "        def getStatsIsomorphism(self):\n",
    "        # TODO: return an numpy array with stats per network: \n",
    "        # - ... related to similarities / difference of network to other networks in collection. \n",
    "                print('WIP')\n"
   ],
   "outputs": [],
   "metadata": {}
  },
  {
   "cell_type": "code",
   "execution_count": 9,
   "source": [
    "########################################\n",
    "########################################\n",
    "# FROM HERE RUN TIME STARTS # "
   ],
   "outputs": [],
   "metadata": {}
  },
  {
   "cell_type": "code",
   "execution_count": 10,
   "source": [
    "getDownloadedNetworks()"
   ],
   "outputs": [
    {
     "output_type": "execute_result",
     "data": {
      "text/plain": [
       "{'Flask (en)': {'lang': 'en', '*': 'Flask'},\n",
       " 'Kolba (de)': {'lang': 'de', '*': 'Kolba'},\n",
       " 'Royston (en)': {'lang': 'en', '*': 'Royston'},\n",
       " 'Oxford (en)': {'lang': 'en', '*': 'Oxford'},\n",
       " 'Flask (fr)': {'lang': 'fr', '*': 'Flask'},\n",
       " 'Oxford (de)': {'lang': 'de', '*': 'Oxford'},\n",
       " 'Oxford (fr)': {'lang': 'fr', '*': 'Oxford'},\n",
       " 'Vaccine (en)': {'lang': 'en', '*': 'Vaccine'},\n",
       " 'Vaccine (fr)': {'lang': 'fr', '*': 'Vaccine'},\n",
       " 'Vaccine (de)': {'lang': 'de', '*': 'Vaccine'},\n",
       " 'Secularism (en)': {'lang': 'en', '*': 'Secularism'},\n",
       " 'علمانية (ar)': {'lang': 'ar', '*': 'علمانية'},\n",
       " 'Laïcité (fr)': {'lang': 'fr', '*': 'Laïcité'},\n",
       " 'Secularisme (nl)': {'lang': 'nl', '*': 'Secularisme'}}"
      ]
     },
     "metadata": {},
     "execution_count": 10
    }
   ],
   "metadata": {}
  },
  {
   "cell_type": "code",
   "execution_count": 11,
   "source": [
    "test = WikiNetwork('Oxford', lang = 'en')"
   ],
   "outputs": [
    {
     "output_type": "stream",
     "name": "stdout",
     "text": [
      "Loading of node C. S. Lewis Nature Reserve failed.\n",
      "Loading of node Labstep failed.\n"
     ]
    }
   ],
   "metadata": {}
  },
  {
   "cell_type": "code",
   "execution_count": 14,
   "source": [
    "network_communities = test.getNetworkCommunities()\n"
   ],
   "outputs": [],
   "metadata": {}
  },
  {
   "cell_type": "code",
   "execution_count": 15,
   "source": [
    "community_colours = ['red', 'blue', 'yellow', 'orange', 'green', 'purple', 'olive', 'brown', 'maroon', 'lime', 'teal'] "
   ],
   "outputs": [],
   "metadata": {}
  },
  {
   "cell_type": "code",
   "execution_count": 142,
   "source": [
    "def layout_communities(network_communities):\n",
    "    \n",
    "    colour_count = -1 \n",
    "    result = []\n",
    "    for community in network_communities: \n",
    "        list_selectors = ''.join([('[label = \"{}\"],'.format(i)) for i in community])\n",
    "        colour_count = colour_count + 1 \n",
    "        # result.append(\n",
    "            {'selector': list_selectors.rstrip(list_selectors[-1]),\n",
    "             'style': { 'background-color': community_colours[colour_count] } },\n",
    "        # )\n",
    "    \n",
    "    return result"
   ],
   "outputs": [],
   "metadata": {}
  },
  {
   "cell_type": "code",
   "execution_count": 145,
   "source": [
    "layout_communities(network_communities)"
   ],
   "outputs": [
    {
     "output_type": "execute_result",
     "data": {
      "text/plain": [
       "[{'selector': '[label = \"Seacourt\"],[label = \"University College, Oxford\"],[label = \"Trinity College, Oxford\"],[label = \"Grandpont\"],[label = \"A34 road (England)\"],[label = \"A40 road\"],[label = \"Tom Tower\"],[label = \"Ipswich railway station\"],[label = \"Stagecoach bus route X5\"],[label = \"Oxford Saints\"],[label = \"University Church of St Mary the Virgin\"],[label = \"Balliol College, Oxford\"],[label = \"Imran Khan\"],[label = \"Southampton Airport Parkway railway station\"],[label = \"VIAF (identifier)\"],[label = \"The Oxford Times\"],[label = \"Phoenix Picturehouse\"],[label = \"Oxford Stadium\"],[label = \"South Oxfordshire\"],[label = \"East Anglia\"],[label = \"Sunnymead\"],[label = \"Zuleika Dobson\"],[label = \"Reading railway station\"],[label = \"His Dark Materials\"],[label = \"Park & ride\"],[label = \"Morris Motors\"],[label = \"Christ Church Picture Gallery\"],[label = \"Oxford University Boat Club\"],[label = \"Deborah Harkness\"],[label = \"Concert hall\"],[label = \"Oxford University RFC\"],[label = \"Waterways, Oxford\"],[label = \"Headington Quarry\"],[label = \"Risinghurst\"],[label = \"High Street, Oxford\"],[label = \"Perm, Russia\"],[label = \"History of Oxfordshire\"],[label = \"Holywell, Oxford\"],[label = \"Legal deposit\"],[label = \"Wadham College, Oxford\"],[label = \"Carterton, Oxfordshire\"],[label = \"Museum of Oxford\"],[label = \"Æthelred the Unready\"],[label = \"Oxford University (UK Parliament constituency)\"],[label = \"A44 road\"],[label = \"University Parks\"],[label = \"Oxford Parkway railway station\"],[label = \"Watlington, Oxfordshire\"],[label = \"A.S. Byatt\"],[label = \"Pablo Picasso\"],[label = \"Wallingford, Oxfordshire\"],[label = \"Oxford-Burcot Commission\"],[label = \"St. Ebbes\"],[label = \"Rose Hill, Oxfordshire\"],[label = \"Oxford (UK Parliament constituency)\"],[label = \"Azad University IR in Oxford\"],[label = \"Sheldonian Theatre\"],[label = \"Iris Murdoch\"],[label = \"Oxford West and Abingdon (UK Parliament constituency)\"],[label = \"John, King of England\"],[label = \"North Hinksey\"],[label = \"Bournemouth railway station\"],[label = \"Oxford English Dictionary\"],[label = \"Parks Road\"],[label = \"Queen Street, Oxford\"],[label = \"Banbury railway station\"],[label = \"Stagecoach Oxfordshire\"],[label = \"Vivian Smith, 1st Baron Bicester\"],[label = \"Milton Keynes\"],[label = \"Odeon Cinemas\"],[label = \"Castle Mill Stream\"],[label = \"High Wycombe\"],[label = \"Burford\"],[label = \"Douglas Jardine\"],[label = \"Augustinians\"],[label = \"Scorpion Macehead\"],[label = \"Ordnance Survey National Grid\"],[label = \"Bicester\"],[label = \"West Oxfordshire\"],[label = \"Nicholas Ridley (martyr)\"],[label = \"Trinitarian Order\"],[label = \"Oxford Rugby League\"],[label = \"Flood-meadow\"],[label = \"Begbroke Science Park\"],[label = \"Oxford University Cricket Club\"],[label = \"Wood Farm, Oxfordshire\"],[label = \"Oxford East (UK Parliament constituency)\"],[label = \"Brasenose College, Oxford\"],[label = \"A4142 road\"],[label = \"Jericho, Oxford\"],[label = \"Lewis (TV series)\"],[label = \"Didcot railway station\"],[label = \"ISBN (identifier)\"],[label = \"List of attractions in Oxford\"],[label = \"Messiah Stradivarius\"],[label = \"Oxford to London coach route\"],[label = \"Cowley, Oxford\"],[label = \"CrossCountry\"],[label = \"Daily Information\"],[label = \"Cornmarket Street\"],[label = \"Broad Street, Oxford\"],[label = \"Ultimate Picture Palace\"],[label = \"Hereford railway station\"],[label = \"John Radcliffe Hospital\"],[label = \"Anneliese Dodds\"],[label = \"Wolvercote\"],[label = \"Chipping Norton\"],[label = \"St John Street area\"],[label = \"Varsity line\"],[label = \"Binsey, Oxfordshire\"],[label = \"Woodstock, Oxfordshire\"],[label = \"Oxford Science Park\"],[label = \"Merton College\"],[label = \"Henley-on-Thames\"],[label = \"Milton Keynes Coachway\"],[label = \"Colin Cowdrey\"],[label = \"Merton College, Oxford\"],[label = \"Didcot Parkway railway station\"],[label = \"Philip Pullman\"],[label = \"Diversified Communications\"],[label = \"Oxford Ring Road\"],[label = \"Christopher Brown (museum director)\"],[label = \"Aularian\"],[label = \"Banbury\"],[label = \"Walton Manor\"],[label = \"Alice in Wonderland (1951 film)\"],[label = \"Thame\"],[label = \"That\\'s TV\"],[label = \"Science Area, Oxford\"],[label = \"Oxford Airport\"],[label = \"Vale of White Horse\"],[label = \"List of places in Oxfordshire\"],[label = \"Aylesbury\"],[label = \"Park Town, Oxford\"],[label = \"Balliol College\"],[label = \"Norwich railway station\"],[label = \"Bodleian Library\"],[label = \"Regent\\'s Park College, Oxford\"],[label = \"Robert D\\'Oyly\"],[label = \"Grade I listed buildings in Oxfordshire\"],[label = \"Chiltern Railways\"],[label = \"The Isis\"],[label = \"Great Western Railway\"],[label = \"Thomas Hardy\"],[label = \"Waterstock\"],[label = \"Supergrass\"],[label = \"Wheatley, Oxfordshire\"],[label = \"New Marston\"],[label = \"Oxford Canal\"],[label = \"P. D. James\"],[label = \"Thomas Wilfred Sharp\"],[label = \"List of schools in Oxfordshire\"],[label = \"Cowley Road\"],[label = \"Oxford Business Park\"],[label = \"Town and gown\"],[label = \"Abingdon, Oxfordshire\"],[label = \"Shotover\"],[label = \"Ashmolean Museum\"],[label = \"M40 motorway\"],[label = \"Hertford College, Oxford\"],[label = \"Salters Steamers\"],[label = \"Oxford University\"],[label = \"Iffley\"],[label = \"Port Meadow, Oxford\"],[label = \"St Clement\\'s, Oxford\"],[label = \"Cherwell District\"],[label = \"Walt Disney\"],[label = \"Port Meadow\"],[label = \"A423 road\"],[label = \"Gaudy Night\"],[label = \"Witney railway station (goods)\"],[label = \"Northway, Oxford\"],[label = \"Wantage\"],[label = \"Colleges of the University of Oxford\"],[label = \"Flag of Oxfordshire\"],[label = \"A420 road\"],[label = \"River Cherwell\"],[label = \"Iffley Road\"],[label = \"Holywell Cemetery\"],[label = \"Bridge of Sighs (Oxford)\"],[label = \"Henry II of England\"],[label = \"The Railway Magazine\"],[label = \"Pitt Rivers Museum\"],[label = \"Risinghurst and Sandhills\"],[label = \"Dorothy L. Sayers\"],[label = \"Jude the Obscure\"],[label = \"Iain Pears\"],[label = \"Maidenhead railway station\"],[label = \"Evelyn Waugh\"],[label = \"Donnington, Oxfordshire\"],[label = \"Birmingham International railway station\"],[label = \"Oxford Bus Company\"],[label = \"Coat of arms of Oxford\"],[label = \"Robert Menzies\"],[label = \"Covered Market, Oxford\"],[label = \"Fellow of the Royal Society of Literature\"],[label = \"Bedford railway station\"],[label = \"Newsquest\"],[label = \"Headington Rural District\"],[label = \"Ruskin College\"],[label = \"Osney Lock\"],[label = \"Ride (band)\"],[label = \"Leonardo da Vinci\"],[label = \"Newcastle railway station\"],[label = \"Watford Junction railway station\"],[label = \"Iffley Lock\"],[label = \"C. S. Lewis\"],[label = \"Parian Chronicle\"],[label = \"Oxford–Bicester line\"],[label = \"Max Beerbohm\"],[label = \"Windsor, Berkshire\"],[label = \"South Park, Oxford\"],[label = \"Endeavour (TV series)\"],[label = \"Six TV\"],[label = \"Ford (crossing)\"],[label = \"Mercia\"],[label = \"Euston railway station\"],[label = \"Botley, Oxfordshire\"],[label = \"High Sheriff of Oxfordshire\"],[label = \"A40 road (Great Britain)\"],[label = \"Anthony Powell\"],[label = \"Park End Street\"],[label = \"England\"],[label = \"Clarendon Shopping Centre\"],[label = \"Keble College\"],[label = \"Great Western Railway (train operating company)\"],[label = \"Colin Dexter\"],[label = \"History of science\"],[label = \"Charlbury\"],[label = \"Richard Doll\"],[label = \"Oxford Playhouse\"],[label = \"Pressed Steel Fisher\"],[label = \"Latin\"],[label = \"History of Anglo-Saxon England\"],[label = \"St Edward\\'s School, Oxford\"],[label = \"Marcus du Sautoy\"],[label = \"Oxford Martyrs\"],[label = \"Museum of the History of Science, Oxford\"],[label = \"Cambridge railway station\"],[label = \"Punt (boat)\"],[label = \"Nature reserve\"],[label = \"OX postcode area\"],[label = \"Four-minute mile\"],[label = \"T. E. Lawrence\"],[label = \"Arriva UK Bus\"],[label = \"Manchester Piccadilly railway station\"],[label = \"Cutteslowe\"],[label = \"Osney\"],[label = \"Kenneth Grahame\"],[label = \"The Story Museum\"],[label = \"Dominican Order\"],[label = \"Oxford University Press\"],[label = \"Oxfordshire County Council elections\"],[label = \"Magdalen College\"],[label = \"Botley Road\"],[label = \"Heathrow Airport\"],[label = \"Holywell Music Room\"],[label = \"Oxford Cathedral\"],[label = \"Cowley Road, Oxford\"],[label = \"Oxford University Press Museum\"],[label = \"All Souls College, Oxford\"],[label = \"Augustus Pitt Rivers\"],[label = \"Oxfordian (stage)\"],[label = \"Oxford Rewley Road railway station\"],[label = \"Norham Manor\"],[label = \"Godstow\"],[label = \"Matthew Arnold\"],[label = \"Magdalen Bridge\"],[label = \"Pembroke College, Oxford\"],[label = \"Brideshead Revisited\"],[label = \"Didcot\"],[label = \"Modern Art Oxford\"],[label = \"George Street, Oxford\"],[label = \"Littlemore\"],[label = \"William Page (historian)\"],[label = \"Bicester Village railway station\"],[label = \"Radiohead\"],[label = \"Gatwick Airport railway station\"],[label = \"Magdalen Street\"],[label = \"Oxford railway station\"],[label = \"Oxford local elections\"],[label = \"Witney\"],[label = \"Templars Square shopping centre\"],[label = \"Barton, Oxfordshire\"],[label = \"Golden Cross, Oxford\"],[label = \"Thames & Hudson\"],[label = \"Howard Marks\"],[label = \"Arriva Shires & Essex\"],[label = \"Stratford-upon-Avon\"],[label = \"Oxfordshire County Council\"],[label = \"St Mary\\'s Church, Oxford\"],[label = \"Professor\"],[label = \"Gatwick Airport\"],[label = \"Birmingham Snow Hill railway station\"],[label = \"J. R. R. Tolkien\"],[label = \"Inspector Morse\"],[label = \"Oxfordshire (UK Parliament constituency)\"],[label = \"Oxford Brookes University\"],[label = \"Archibald Constable\"],[label = \"Haddenham, Buckinghamshire\"],[label = \"British Library\"],[label = \"Bletchley railway station\"],[label = \"Lye Valley\"],[label = \"Sophos\"],[label = \"Susan Cooper\"],[label = \"City of Oxford Silver Band\"],[label = \"Oxfam\"],[label = \"Jan Morris\"],[label = \"Fairford railway station\"],[label = \"Carfax, Oxford\"],[label = \"Milton Keynes Central railway station\"],[label = \"Corpus Christi College, Oxford\"],[label = \"Summertown, Oxford\"],[label = \"New Theatre Oxford\"],[label = \"St Anne\\'s College, Oxford\"],[label = \"Gloucester Green\"],[label = \"Oxford Castle\"],[label = \"Bishop of Oxford\"],[label = \"Stornoway (band)\"],[label = \"Wi-Fi\"],[label = \"James A. Owen\"],[label = \"Aston\\'s Eyot\"],[label = \"London Paddington railway station\"],[label = \"Cowley, Oxfordshire\"],[label = \"Elsevier\"],[label = \"Cumnor Hill\"],[label = \"Roger Bannister\"],[label = \"River Thames\"],[label = \"North Oxford\"],[label = \"Boswells of Oxford\"],[label = \"Walton Street\"],[label = \"Cowley Barracks\"],[label = \"Thames Travel\"],[label = \"Victoria County History\"],[label = \"Banbury Road\"],[label = \"George Spencer, 4th Duke of Marlborough\"],[label = \"Oxford City Council\"],[label = \"East West Rail\"],[label = \"List of Sites of Special Scientific Interest in Oxfordshire\"],[label = \"Oxford Mail\"],[label = \"Oxford Oratory\"],[label = \"Carola Oman\"],[label = \"Oxfordshire and Buckinghamshire Light Infantry\"],[label = \"St Aldate\\'s, Oxford\"],[label = \"Mamma Mia! Here We Go Again\"],[label = \"Deddington\"],[label = \"North Parade\"],[label = \"Exeter College, Oxford\"],[label = \"Folly Bridge\"],[label = \"South Central Ambulance Service\"],[label = \"Alfred Jewel\"],[label = \"Chiltern Main Line\"],[label = \"Kidlington\"],[label = \"Old Marston\"],[label = \"Water Eaton, Oxfordshire\"],[label = \"St. Brice\\'s Day massacre\"],[label = \"Beaumont Street\"],[label = \"A Discovery of Witches\"],[label = \"University museum\"],[label = \"Faringdon\"],[label = \"Blackbird Leys\"],[label = \"The Boat Race\"],[label = \"Thames Valley Police\"],[label = \"List of museums in Oxford\"],[label = \"Beaumont Palace\"],[label = \"University of Oxford\"],[label = \"Florence Park, Oxford\"],[label = \"Magdalen College, Oxford\"],[label = \"Master (college)\"],[label = \"Merton Street\"],[label = \"University of Chicago Press\"],[label = \"Ox\"],[label = \"Oxfordshire Fire and Rescue Service\"],[label = \"Christian theology\"],[label = \"Kassam Stadium\"],[label = \"South East England\"],[label = \"Bellfounding\"],[label = \"Tutorial\"],[label = \"List of Parliamentary constituencies in Oxfordshire\"],[label = \"Basil Blackwell\"],[label = \"Inspector Morse (TV series)\"],[label = \"Christ Church, Oxford\"],[label = \"Doomsday Book (novel)\"],[label = \"Geographic coordinate system\"],[label = \"Mr. Nice (book)\"],[label = \"Westgate Shopping Centre, Oxford\"],[label = \"Oxfordshire Architectural and Historical Society\"],[label = \"New College Lane\"],[label = \"The Headington Shark\"],[label = \"Dean Court, Oxfordshire\"],[label = \"Abingdon-on-Thames\"],[label = \"Stagecoach Gold\"],[label = \"J. M. W. Turner\"],[label = \"Marston, Oxfordshire\"],[label = \"Morrells Brewing Company\"],[label = \"Greater Leys\"],[label = \"Mayors of Oxford\"],[label = \"Vue Cinemas\"],[label = \"Charles Williams (British writer)\"],[label = \"Lewis Carroll\"],[label = \"Oxpens Road\"],[label = \"List of museums in Oxfordshire\"],[label = \"Jesus College, Oxford\"],[label = \"Sweyn Forkbeard\"],[label = \"Harry Potter\"],[label = \"Connie Willis\"],[label = \"Brian Aldiss\"],[label = \"Faber and Faber\"],[label = \"Thomas Cranmer\"],[label = \"Headington Hill\"],[label = \"Marylebone railway station\"],[label = \"Dodo\"],[label = \"List of civil parishes in Oxfordshire\"],[label = \"Christ Church Cathedral, Oxford\"],[label = \"Siege of Oxford\"],[label = \"Oxford United F.C.\"],[label = \"St John\\'s College, Oxford\"],[label = \"Radcliffe Camera\"],[label = \"Oxford Town Hall\"],[label = \"Commander of the Order of the British Empire\"],[label = \"Heathrow Express\"],[label = \"A Question of Upbringing\"],[label = \"Martyrs\\' Memorial\"],[label = \"Lord Lieutenant of Oxfordshire\"],[label = \"Radcliffe Square\"],[label = \"Thame railway station\"],[label = \"Paddington railway station\"],[label = \"Mark (currency)\"],[label = \"New Hinksey\"],[label = \"Oxfordshire\"],[label = \"London station group\"],[label = \"Denham railway station\"],[label = \"Wiley-Blackwell\"],[label = \"Michelangelo\"],[label = \"Architectural painting\"],[label = \"Somerville College, Oxford\"],[label = \"Worcester Shrub Hill railway station\"],[label = \"Steven Spielberg\"],[label = \"High Wycombe railway station\"],[label = \"The Chronicles of the Imaginarium Geographica\"],[label = \"Richard I of England\"],[label = \"Little Clarendon Street\"],[label = \"Islamic Azad University\"],[label = \"Oxford University Museum of Natural History\"],[label = \"Lady Margaret Hall, Oxford\"],[label = \"Hugh Latimer\"],[label = \"Headington\"],[label = \"An Instance of the Fingerpost\"],[label = \"Arriva Sapphire\"]',\n",
       "  'style': {'background-color': 'red'}},\n",
       " {'selector': '[label = \"Kingston upon Hull\"],[label = \"Anglo-Saxons\"],[label = \"Member of the Order of Merit\"],[label = \"Conference League South\"],[label = \"Other White\"],[label = \"Labour and Co-operative\"],[label = \"Perth, Scotland\"],[label = \"Vice-admiral (Royal Navy)\"],[label = \"Black British\"],[label = \"Officer of the Order of the British Empire\"],[label = \"Edward VII of the United Kingdom\"],[label = \"ISSN (identifier)\"],[label = \"English-speaking world\"],[label = \"Padua\"],[label = \"ISO 3166-2:GB\"],[label = \"Raymond Williams\"],[label = \"Swansea\"],[label = \"Companion of Honour\"],[label = \"BBC Radio 1\"],[label = \"List of MPs elected in the 2019 United Kingdom general election\"],[label = \"Bath, Somerset\"],[label = \"Knight Grand Cross of the Order of the Bath\"],[label = \"Geoffrey of Monmouth\"],[label = \"Bangor, Gwynedd\"],[label = \"Cambridge\"],[label = \"RFL League 1\"],[label = \"Precipitation\"],[label = \"City of Chelmsford\"],[label = \"Norwich\"],[label = \"British national grid reference system\"],[label = \"Clement Attlee\"],[label = \"Brighton and Hove\"],[label = \"County town\"],[label = \"Wolverhampton\"],[label = \"Netherlands\"],[label = \"Newport, Wales\"],[label = \"Poland\"],[label = \"Demonym\"],[label = \"Airbus Helicopters\"],[label = \"Second World War\"],[label = \"City of Winchester\"],[label = \"Köppen climate classification\"],[label = \"Haverfordwest\"],[label = \"Horatio Nelson, 1st Viscount Nelson\"],[label = \"Knight Commander of the Order of the Indian Empire\"],[label = \"John Lewis Partnership\"],[label = \"Brecon\"],[label = \"List of oldest universities in continuous operation\"],[label = \"State of Palestine\"],[label = \"Irish Briton\"],[label = \"Admiral of the Fleet (Royal Navy)\"],[label = \"Solihull\"],[label = \"Wayback Machine\"],[label = \"Worcester, England\"],[label = \"Armagh\"],[label = \"Symphony No. 92 (Haydn)\"],[label = \"Motorcycle speedway\"],[label = \"Winchester\"],[label = \"City status in the United Kingdom\"],[label = \"Chichester\"],[label = \"Photochrom\"],[label = \"Danes (Germanic tribe)\"],[label = \"Time zone\"],[label = \"Diocese\"],[label = \"St Davids\"],[label = \"Ceremonial counties of England\"],[label = \"BBC\"],[label = \"Old master\"],[label = \"The Rifles\"],[label = \"Nicaragua\"],[label = \"York\"],[label = \"County borough\"],[label = \"City of London\"],[label = \"Elite League (speedway)\"],[label = \"Field marshal (United Kingdom)\"],[label = \"Fishguard\"],[label = \"City of Leeds\"],[label = \"United Kingdom\"],[label = \"Office for National Statistics (United Kingdom)\"],[label = \"Charles I of England\"],[label = \"Cabinet of curiosities\"],[label = \"Oceanic climate\"],[label = \"Oxford Cheetahs\"],[label = \"Portsmouth\"],[label = \"The Blitz\"],[label = \"City of Carlisle\"],[label = \"List of sovereign states\"],[label = \"Manizales\"],[label = \"Charles II of England\"],[label = \"Privy Council of the United Kingdom\"],[label = \"102 Dalmatians\"],[label = \"Loughborough\"],[label = \"Exeter\"],[label = \"Knight Grand Cross of the Order of the British Empire\"],[label = \"Joseph Haydn\"],[label = \"British Mixed\"],[label = \"Knight of the Order of the Thistle\"],[label = \"Companion of the Order of the Bath\"],[label = \"The Anarchy\"],[label = \"Labour Party (UK)\"],[label = \"Hereford\"],[label = \"Met Office\"],[label = \"Peterborough\"],[label = \"London and North Western Railway\"],[label = \"Simon de Montfort, 6th Earl of Leicester\"],[label = \"Doi (identifier)\"],[label = \"Manchester\"],[label = \"Rugby league\"],[label = \"Aberystwyth\"],[label = \"Abergavenny\"],[label = \"Nottingham\"],[label = \"Leiden\"],[label = \"City of Lancaster\"],[label = \"Bonn\"],[label = \"Metropolitan area\"],[label = \"List of twin towns and sister cities in England\"],[label = \"Carmarthen\"],[label = \"Derry\"],[label = \"British Asian\"],[label = \"Ramallah\"],[label = \"Germany\"],[label = \"Liberty (division)\"],[label = \"Wales\"],[label = \"Bristol\"],[label = \"St Asaph\"],[label = \"Jurassic\"],[label = \"First York\"],[label = \"Llandovery\"],[label = \"City of Westminster\"],[label = \"UTC+1\"],[label = \"Liberal Democrats (UK)\"],[label = \"Plymouth\"],[label = \"English Civil War\"],[label = \"Countries of the United Kingdom\"],[label = \"National Express Coaches\"],[label = \"City of Wakefield\"],[label = \"Glasgow\"],[label = \"Encyclopædia Britannica Eleventh Edition\"],[label = \"Precipitation (meteorology)\"],[label = \"Jim Smith (footballer)\"],[label = \"Edinburgh\"],[label = \"London\"],[label = \"Stirling\"],[label = \"Lichfield\"],[label = \"2011 United Kingdom census\"],[label = \"Chippenham\"],[label = \"David Beatty, 1st Earl Beatty\"],[label = \"León, Nicaragua\"],[label = \"Architecture of England\"],[label = \"Sunshine duration\"],[label = \"World War I\"],[label = \"White British\"],[label = \"Gloucester\"],[label = \"Knight Companion of the Order of the Bath (1725–1815)\"],[label = \"Salisbury\"],[label = \"Liverpool\"],[label = \"George Frideric Handel\"],[label = \"The Boston Globe\"],[label = \"City of Salford\"],[label = \"Fellow of the Royal Society\"],[label = \"France\"],[label = \"Southampton\"],[label = \"City of Canterbury\"],[label = \"City of Bradford\"],[label = \"Aberdeen\"],[label = \"Hybrid electric bus\"],[label = \"Deputy Lieutenant\"],[label = \"Ely, Cambridgeshire\"],[label = \"Franciscan\"],[label = \"Municipal Corporations Act 1835\"],[label = \"Northern England\"],[label = \"York park and ride\"],[label = \"Church of England\"],[label = \"Wrocław\"],[label = \"Other ethnic group (United Kingdom Census)\"],[label = \"St Albans City and District\"],[label = \"Scotland\"],[label = \"Inverness\"],[label = \"Grenoble\"],[label = \"Monmouth\"],[label = \"City of Preston, Lancashire\"],[label = \"Freedom of the City\"],[label = \"Queen\\'s Counsel\"],[label = \"Knight Grand Cross of the Royal Victorian Order\"],[label = \"Urban sprawl\"],[label = \"Belfast\"],[label = \"Durham, England\"],[label = \"Distinguished Service Order\"],[label = \"Greenwich Mean Time\"],[label = \"Coventry\"],[label = \"Knight of the Order of the Garter\"],[label = \"City of Sheffield\"],[label = \"Italy\"],[label = \"Dundee\"],[label = \"Newry\"],[label = \"Park and ride\"],[label = \"Airbus\"],[label = \"British Summer Time\"],[label = \"Daylight saving time\"],[label = \"Newcastle upon Tyne\"],[label = \"Russia\"],[label = \"Sweating sickness\"],[label = \"Jews\"],[label = \"Oxford Movement\"],[label = \"Oxford Cavaliers\"],[label = \"Ripon\"],[label = \"Wells, Somerset\"],[label = \"Chester\"],[label = \"Great Plague of London\"],[label = \"Nelson Mandela\"],[label = \"Knight Companion of the Order of the Thistle\"],[label = \"Truro\"],[label = \"Colombia\"],[label = \"Layla Moran\"],[label = \"Tourist attraction\"],[label = \"MBAREA (identifier)\"],[label = \"Stoke-on-Trent\"],[label = \"Cardiff\"],[label = \"Global warming\"],[label = \"Conference League\"],[label = \"Rugby Union\"],[label = \"Cheltenham\"],[label = \"Douglas Haig, 1st Earl Haig\"],[label = \"Derby\"],[label = \"Leicester\"],[label = \"Lisburn\"],[label = \"Twin towns and sister cities\"],[label = \"Lincoln, England\"],[label = \"Swindon\"],[label = \"Rugby, Warwickshire\"],[label = \"John Taylor & Co\"],[label = \"City of Sunderland\"],[label = \"Reginald Tyrwhitt\"],[label = \"Telephone numbering plan\"],[label = \"Hans Nielsen (speedway rider)\"],[label = \"Birmingham\"],[label = \"Evesham\"]',\n",
       "  'style': {'background-color': 'blue'}},\n",
       " {'selector': '[label = \"Borough of Milton Keynes\"],[label = \"Newbury, Berkshire\"],[label = \"Chichester District\"],[label = \"Borough of Dartford\"],[label = \"Borough of Tunbridge Wells\"],[label = \"Gosport\"],[label = \"Non-metropolitan district\"],[label = \"Worthing\"],[label = \"Test Valley\"],[label = \"East Sussex\"],[label = \"ONS coding system\"],[label = \"Borough of Runnymede\"],[label = \"Slough\"],[label = \"Reading, Berkshire\"],[label = \"Borough of Waverley\"],[label = \"Adur District\"],[label = \"Epsom and Ewell\"],[label = \"Horsham District\"],[label = \"Coaching inn\"],[label = \"Dover District\"],[label = \"Kent\"],[label = \"Sevenoaks District\"],[label = \"Borough of Eastleigh\"],[label = \"Crawley\"],[label = \"Borough of Wokingham\"],[label = \"Hastings\"],[label = \"West Sussex\"],[label = \"Bracknell Forest\"],[label = \"West Berkshire\"],[label = \"New Forest District\"],[label = \"Cistercian\"],[label = \"Eastbourne\"],[label = \"Borough of Elmbridge\"],[label = \"Surrey Heath\"],[label = \"Districts of England\"],[label = \"Buckinghamshire Council\"],[label = \"Rushmoor\"],[label = \"Berkshire\"],[label = \"Royal Green Jackets\"],[label = \"Folkestone and Hythe District\"],[label = \"Surrey\"],[label = \"Hart District\"],[label = \"Borough of Woking\"],[label = \"Wealden District\"],[label = \"Rother District\"],[label = \"Royal Borough of Windsor and Maidenhead\"],[label = \"East Hampshire\"],[label = \"Tandridge District\"],[label = \"Basingstoke and Deane\"],[label = \"UTC0\"],[label = \"Gravesham\"],[label = \"Tonbridge and Malling\"],[label = \"Arun District\"],[label = \"Atlantic\"],[label = \"Mole Valley\"],[label = \"Borough of Havant\"],[label = \"Borough of Ashford\"],[label = \"Lewes District\"],[label = \"Thanet District\"],[label = \"Buckinghamshire\"],[label = \"Mid Sussex District\"],[label = \"Isle of Wight\"],[label = \"Borough of Spelthorne\"],[label = \"Medway\"],[label = \"Oscar Wilde\"],[label = \"Regions of England\"],[label = \"Borough of Swale\"],[label = \"Sheriff\"],[label = \"Borough of Fareham\"],[label = \"Borough of Maidstone\"],[label = \"Reigate and Banstead\"],[label = \"Borough of Guildford\"]',\n",
       "  'style': {'background-color': 'yellow'}},\n",
       " {'selector': '[label = \"Ray Houghton\"],[label = \"Hampshire\"],[label = \"Dean Whitehead\"],[label = \"English Football League\"],[label = \"Football League Second Division\"],[label = \"National League (English football)\"],[label = \"Maurice Evans (footballer, born 1936)\"],[label = \"Football League First Division\"],[label = \"John Aldridge\"],[label = \"English football league system\"],[label = \"Ian Greaves\"],[label = \"National League South\"],[label = \"Dean Saunders\"],[label = \"Oxford City F.C.\"],[label = \"Norman conquest of England\"],[label = \"Premier League\"],[label = \"Oxford City Nomads F.C.\"],[label = \"London Welsh RFC\"],[label = \"Air traffic control\"],[label = \"Denis Smith (footballer, born 1947)\"],[label = \"Brian Horton\"],[label = \"The Midlands\"],[label = \"Matt Elliott (footballer)\"],[label = \"Wessex\"],[label = \"EFL Cup\"],[label = \"EFL League One\"],[label = \"M3 motorway (Great Britain)\"],[label = \"Manor Ground, Oxford\"],[label = \"Firoz Kassam\"],[label = \"Football League Third Division\"],[label = \"Hellenic Football League\"],[label = \"English Premiership (rugby union)\"]',\n",
       "  'style': {'background-color': 'orange'}},\n",
       " {'selector': '[label = \"British Leyland\"],[label = \"BMW\"],[label = \"William Morris, 1st Viscount Nuffield\"],[label = \"Mini (marque)\"],[label = \"Austin Motor Company\"],[label = \"Rover Group\"]',\n",
       "  'style': {'background-color': 'green'}},\n",
       " {'selector': '[label = \"Justice of the Peace\"],[label = \"Arthur Annesley, 11th Viscount Valentia\"],[label = \"Knight Commander of the Royal Victorian Order\"]',\n",
       "  'style': {'background-color': 'purple'}},\n",
       " {'selector': '[label = \"Oxford City Stars\"],[label = \"Oxford Ice Rink\"],[label = \"British Universities Ice Hockey Association\"]',\n",
       "  'style': {'background-color': 'olive'}},\n",
       " {'selector': '[label = \"BBC Oxford\"],[label = \"South Today\"]',\n",
       "  'style': {'background-color': 'brown'}},\n",
       " {'selector': '[label = \"Travis (band)\"],[label = \"Foals (band)\"]',\n",
       "  'style': {'background-color': 'maroon'}}]"
      ]
     },
     "metadata": {},
     "execution_count": 145
    }
   ],
   "metadata": {}
  },
  {
   "cell_type": "code",
   "execution_count": 137,
   "source": [
    "temp"
   ],
   "outputs": [
    {
     "output_type": "execute_result",
     "data": {
      "text/plain": [
       "<generator object layout_communities.<locals>.<genexpr> at 0x7f4691c02ba0>"
      ]
     },
     "metadata": {},
     "execution_count": 137
    }
   ],
   "metadata": {}
  },
  {
   "cell_type": "code",
   "execution_count": 117,
   "source": [
    "final"
   ],
   "outputs": [
    {
     "output_type": "execute_result",
     "data": {
      "text/plain": [
       "{'selector': '[label = \"Travis (band)\"],[label = \"Foals (band)\"]',\n",
       " 'style': {'background-color': 'maroon'}}"
      ]
     },
     "metadata": {},
     "execution_count": 117
    }
   ],
   "metadata": {}
  },
  {
   "cell_type": "code",
   "execution_count": 26,
   "source": [
    "list_selectors_complete[9]"
   ],
   "outputs": [
    {
     "output_type": "error",
     "ename": "IndexError",
     "evalue": "list index out of range",
     "traceback": [
      "\u001b[0;31m---------------------------------------------------------------------------\u001b[0m",
      "\u001b[0;31mIndexError\u001b[0m                                Traceback (most recent call last)",
      "\u001b[0;32m<ipython-input-26-2096b12eb504>\u001b[0m in \u001b[0;36m<module>\u001b[0;34m\u001b[0m\n\u001b[0;32m----> 1\u001b[0;31m \u001b[0mlist_selectors_complete\u001b[0m\u001b[0;34m[\u001b[0m\u001b[0;36m9\u001b[0m\u001b[0;34m]\u001b[0m\u001b[0;34m\u001b[0m\u001b[0;34m\u001b[0m\u001b[0m\n\u001b[0m",
      "\u001b[0;31mIndexError\u001b[0m: list index out of range"
     ]
    }
   ],
   "metadata": {}
  },
  {
   "cell_type": "code",
   "execution_count": 56,
   "source": [
    "selected_network = 'Oxford (en)'\n",
    "\n",
    "wiki_page_options = [v['AvailableLanguages'] for v in network_data.values() if v['title'] == all_networks[selected_network]['*'] if v['language'] == all_networks[selected_network]['lang']]\n",
    "language_options = [selected_network] + [k for k,v in all_networks.items() if {'lang': v['lang'], '*': v['*']} in wiki_page_options[0]]\n"
   ],
   "outputs": [],
   "metadata": {}
  },
  {
   "cell_type": "code",
   "execution_count": 57,
   "source": [
    "[{'label': i, 'value': i} for i in language_options] "
   ],
   "outputs": [
    {
     "output_type": "execute_result",
     "data": {
      "text/plain": [
       "[{'label': 'Oxford (en)', 'value': 'Oxford (en)'},\n",
       " {'label': 'Oxford (de)', 'value': 'Oxford (de)'},\n",
       " {'label': 'Oxford (fr)', 'value': 'Oxford (fr)'}]"
      ]
     },
     "metadata": {},
     "execution_count": 57
    }
   ],
   "metadata": {}
  },
  {
   "cell_type": "code",
   "execution_count": 54,
   "source": [
    "all_keys = set().union(*(d.keys() for d in language_options))\n"
   ],
   "outputs": [
    {
     "output_type": "error",
     "ename": "AttributeError",
     "evalue": "'tuple' object has no attribute 'keys'",
     "traceback": [
      "\u001b[0;31m---------------------------------------------------------------------------\u001b[0m",
      "\u001b[0;31mAttributeError\u001b[0m                            Traceback (most recent call last)",
      "\u001b[0;32m<ipython-input-54-b615f758eb2c>\u001b[0m in \u001b[0;36m<module>\u001b[0;34m\u001b[0m\n\u001b[0;32m----> 1\u001b[0;31m \u001b[0mall_keys\u001b[0m \u001b[0;34m=\u001b[0m \u001b[0mset\u001b[0m\u001b[0;34m(\u001b[0m\u001b[0;34m)\u001b[0m\u001b[0;34m.\u001b[0m\u001b[0munion\u001b[0m\u001b[0;34m(\u001b[0m\u001b[0;34m*\u001b[0m\u001b[0;34m(\u001b[0m\u001b[0md\u001b[0m\u001b[0;34m.\u001b[0m\u001b[0mkeys\u001b[0m\u001b[0;34m(\u001b[0m\u001b[0;34m)\u001b[0m \u001b[0;32mfor\u001b[0m \u001b[0md\u001b[0m \u001b[0;32min\u001b[0m \u001b[0mlanguage_options\u001b[0m\u001b[0;34m)\u001b[0m\u001b[0;34m)\u001b[0m\u001b[0;34m\u001b[0m\u001b[0;34m\u001b[0m\u001b[0m\n\u001b[0m",
      "\u001b[0;32m<ipython-input-54-b615f758eb2c>\u001b[0m in \u001b[0;36m<genexpr>\u001b[0;34m(.0)\u001b[0m\n\u001b[0;32m----> 1\u001b[0;31m \u001b[0mall_keys\u001b[0m \u001b[0;34m=\u001b[0m \u001b[0mset\u001b[0m\u001b[0;34m(\u001b[0m\u001b[0;34m)\u001b[0m\u001b[0;34m.\u001b[0m\u001b[0munion\u001b[0m\u001b[0;34m(\u001b[0m\u001b[0;34m*\u001b[0m\u001b[0;34m(\u001b[0m\u001b[0md\u001b[0m\u001b[0;34m.\u001b[0m\u001b[0mkeys\u001b[0m\u001b[0;34m(\u001b[0m\u001b[0;34m)\u001b[0m \u001b[0;32mfor\u001b[0m \u001b[0md\u001b[0m \u001b[0;32min\u001b[0m \u001b[0mlanguage_options\u001b[0m\u001b[0;34m)\u001b[0m\u001b[0;34m)\u001b[0m\u001b[0;34m\u001b[0m\u001b[0;34m\u001b[0m\u001b[0m\n\u001b[0m",
      "\u001b[0;31mAttributeError\u001b[0m: 'tuple' object has no attribute 'keys'"
     ]
    }
   ],
   "metadata": {}
  },
  {
   "cell_type": "code",
   "execution_count": 45,
   "source": [
    "[{'label': a, 'value': a} for a in language_options] "
   ],
   "outputs": [
    {
     "output_type": "execute_result",
     "data": {
      "text/plain": [
       "[{'label': {'Oxford (en)': {'lang': 'en', '*': 'Oxford'}},\n",
       "  'value': {'Oxford (en)': {'lang': 'en', '*': 'Oxford'}}},\n",
       " {'label': ('Oxford (de)', {'lang': 'de', '*': 'Oxford'}),\n",
       "  'value': ('Oxford (de)', {'lang': 'de', '*': 'Oxford'})},\n",
       " {'label': ('Oxford (fr)', {'lang': 'fr', '*': 'Oxford'}),\n",
       "  'value': ('Oxford (fr)', {'lang': 'fr', '*': 'Oxford'})}]"
      ]
     },
     "metadata": {},
     "execution_count": 45
    }
   ],
   "metadata": {}
  },
  {
   "cell_type": "code",
   "execution_count": 41,
   "source": [
    "[v for v in language_options] "
   ],
   "outputs": [
    {
     "output_type": "execute_result",
     "data": {
      "text/plain": [
       "[{'Oxford (en)': {'lang': 'en', '*': 'Oxford'}},\n",
       " ('Oxford (de)', {'lang': 'de', '*': 'Oxford'}),\n",
       " ('Oxford (fr)', {'lang': 'fr', '*': 'Oxford'})]"
      ]
     },
     "metadata": {},
     "execution_count": 41
    }
   ],
   "metadata": {}
  },
  {
   "cell_type": "code",
   "execution_count": 65,
   "source": [
    "def test_fun(input):\n",
    "    \n",
    "    text = WikiNode('Oxford', 'en')\n",
    "    if input > 1:\n",
    "        return text.node_ID\n",
    "\n",
    "    "
   ],
   "outputs": [],
   "metadata": {}
  },
  {
   "cell_type": "code",
   "execution_count": 67,
   "source": [
    "test_fun(10)"
   ],
   "outputs": [
    {
     "output_type": "execute_result",
     "data": {
      "text/plain": [
       "'22308'"
      ]
     },
     "metadata": {},
     "execution_count": 67
    }
   ],
   "metadata": {}
  },
  {
   "cell_type": "code",
   "execution_count": 1,
   "source": [
    "import networkx as nx\n",
    "G = nx.Graph()\n",
    "G.add_edge(0,1,weight=.1)\n",
    "G.add_edge(2,1,weight=.2)\n",
    "nx.write_gml(G,'g.gml')\n",
    "nx.write_graphml(G,'g.xml')"
   ],
   "outputs": [],
   "metadata": {}
  },
  {
   "cell_type": "code",
   "execution_count": 2,
   "source": [
    "G."
   ],
   "outputs": [
    {
     "output_type": "execute_result",
     "data": {
      "text/plain": [
       "<networkx.classes.graph.Graph at 0x7ff998081d90>"
      ]
     },
     "metadata": {},
     "execution_count": 2
    }
   ],
   "metadata": {}
  },
  {
   "cell_type": "code",
   "execution_count": null,
   "source": [],
   "outputs": [],
   "metadata": {}
  }
 ]
}