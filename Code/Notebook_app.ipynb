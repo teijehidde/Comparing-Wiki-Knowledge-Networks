{
 "metadata": {
  "language_info": {
   "codemirror_mode": {
    "name": "ipython",
    "version": 3
   },
   "file_extension": ".py",
   "mimetype": "text/x-python",
   "name": "python",
   "nbconvert_exporter": "python",
   "pygments_lexer": "ipython3",
   "version": "3.8.5"
  },
  "orig_nbformat": 2,
  "kernelspec": {
   "name": "python385jvsc74a57bd031f2aee4e71d21fbe5cf8b01ff0e069b9275f58929596ceb00d14d90e3e16cd6",
   "display_name": "Python 3.8.5 64-bit"
  }
 },
 "nbformat": 4,
 "nbformat_minor": 2,
 "cells": [
  {
   "cell_type": "code",
   "execution_count": 20,
   "metadata": {},
   "outputs": [],
   "source": [
    "# Setup \n",
    "from flask import Flask, render_template, request\n",
    "import os\n",
    "import pygraphviz as pgv\n",
    "from pyvis.network import Network\n",
    "from collections import Counter\n",
    "import networkx as nx\n",
    "import requests\n",
    "import json\n",
    "\n",
    "PATH = \"/home/teijehidde/Documents/Git Blog and Coding/Project one (wikipedia SNA)/Code/\"\n",
    "DATA_FILE = \"networkdata3.json\"\n",
    "WIKI_URL = \"https://en.wikipedia.org\"\n",
    "API_ENDPOINT = WIKI_URL + \"/w/api.php\"\n",
    "LIMIT_LINKS_PER_NODE = 500\n",
    "LIMIT_API_REQUESTS = 100"
   ]
  },
  {
   "cell_type": "code",
   "execution_count": 21,
   "metadata": {},
   "outputs": [],
   "source": [
    "# Loading previously saved link data.\n",
    "with open(PATH + DATA_FILE) as json_file:\n",
    "    network_data = json.load(json_file)"
   ]
  },
  {
   "cell_type": "code",
   "execution_count": 22,
   "metadata": {},
   "outputs": [],
   "source": [
    "# Function: download data node_title from Wikimedia API, add to network_data runtime object and save to json file.  \n",
    "def downloadNode(node_title, continue_pageid = None):\n",
    "\n",
    "    # setup and load existing data node.\n",
    "    links_wiki = []\n",
    "    if node_title in network_data.keys(): \n",
    "        if network_data[node_title]['status'] == 'incomplete':\n",
    "            links_wiki = links_wiki + network_data[node_title]['links']\n",
    "\n",
    "    # requesting data via wikimedia API.  \n",
    "    S = requests.Session()\n",
    "    PARAMS = {\n",
    "        \"action\": \"query\",\n",
    "        \"format\": \"json\",\n",
    "        \"titles\": node_title,\n",
    "        \"prop\": \"links\",\n",
    "        \"plcontinue\": continue_pageid, #NB: THIS SHOULD BE MAX PAGEID of result, then call AGAIN... \n",
    "        \"plnamespace\": 0, # only load wikipedia main/articles. \n",
    "        \"pllimit\": 500 # can go up to 500. Go for max? \n",
    "    }\n",
    "    response = S.get(url=API_ENDPOINT, params=PARAMS)\n",
    "\n",
    "    # Transforming dat response + error handling.  \n",
    "    data_wiki = response.json()\n",
    "    node = next(iter(data_wiki['query']['pages']))\n",
    "    \n",
    "    try: \n",
    "        for x in data_wiki['query']['pages'][node]['links']:\n",
    "            links_wiki.append(x['title'])\n",
    "                \n",
    "        node_data = {'status': 'complete', 'node_ID': node, 'links': links_wiki, 'timestamp': 'TODO', 'ego': 0} # , 'revisions': 'TODO'\n",
    "        if 'continue' in data_wiki.keys(): \n",
    "            node_data['status'] = 'incomplete' \n",
    "            node_data['plcontinue'] = data_wiki['continue']['plcontinue']\n",
    "        network_data[node_title] = node_data\n",
    "        return network_data[node_title]\n",
    "        \n",
    "    except:\n",
    "        node_data = {'status': 'dead', 'timestamp': 'TODO'}\n",
    "        network_data[node_title] = node_data\n",
    "        return network_data[node_title]\n",
    "    \n",
    "    finally:   \n",
    "        with open(PATH + DATA_FILE, 'w') as outfile:\n",
    "            json.dump(network_data, outfile)\n",
    "            print(\"Data succesfully saved. Wikipage name: \" + node_title + \". Status: \" + network_data[node_title]['status'] + \".\")\n"
   ]
  },
  {
   "cell_type": "code",
   "execution_count": 23,
   "metadata": {},
   "outputs": [],
   "source": [
    "# initiate class Node. \n",
    "class WikiNode:\n",
    "    def __init__(self,node_title):\n",
    "        self.node_title = node_title\n",
    "        self.node_status = 'empty'\n",
    "        self.node_links = []\n",
    "        \n",
    "        # here the json file is read. If the data on wikipedia links is not available, it returns the node as 'empty'. \n",
    "        if node_title in network_data.keys():\n",
    "            self.node_status = network_data[node_title]['status']\n",
    "        else: self.node_status = 'empty'\n",
    "        \n",
    "        # if there is data on wikipedia links available (if the node is not a deadlink, thus 'alive') links are added to the instance of WikiNode. \n",
    "        if self.node_status == 'complete':\n",
    "            self.node_links = network_data[node_title]['links']\n",
    "\n",
    "    # In case data is not available, this method calls a function to call the wikimedia API to download data from wikimedia. \n",
    "    def downloadNode(self,continue_pageid=None,):\n",
    "        \n",
    "        if self.node_title not in network_data.keys(): \n",
    "            downloadNode(self.node_title)\n",
    "        while network_data[self.node_title]['status'] == 'incomplete' or network_data[self.node_title]['status'] == 'empty':  \n",
    "            if 'plcontinue' in network_data[self.node_title].keys(): \n",
    "                x = network_data[self.node_title]['plcontinue']\n",
    "            else: x = None  \n",
    "            downloadNode(self.node_title, continue_pageid = x)\n",
    "\n",
    "        self.__init__(self.node_title)"
   ]
  },
  {
   "cell_type": "code",
   "execution_count": 24,
   "metadata": {},
   "outputs": [],
   "source": [
    "# Initiate class WikiNetwork\n",
    "class WikiNetwork(WikiNode):\n",
    "    \n",
    "    def __init__(self,node_title):\n",
    "        # initiate network as class WikiNode, add additional attributes for class WikiNetwork \n",
    "        WikiNode.__init__(self, node_title)\n",
    "        self.network_nodes = []\n",
    "        self.network_edges = [] \n",
    "        self.network_status = []\n",
    "        \n",
    "        # if the central node has links (if it is 'alive' and not a deadlink on wikipedia) then the links are here used to build the network.  \n",
    "        if self.node_status == 'complete':\n",
    "            self.node_links.append(node_title)\n",
    "\n",
    "            for link in self.node_links:\n",
    "                Node2 = WikiNode(link)\n",
    "                self.network_status  = self.network_status + [Node2.node_status] \n",
    "                if Node2.node_status == 'complete':\n",
    "                    purged_nodes = [x for x in Node2.node_links if x in self.node_links]\n",
    "                    purged_edges = []\n",
    "                    for purged_node in purged_nodes:\n",
    "                        purged_edges.append((link,purged_node))  \n",
    "                    self.network_nodes = self.network_nodes + purged_nodes\n",
    "                    self.network_edges = self.network_edges + purged_edges                             \n",
    "            self.nodes_count = Counter(self.network_nodes)\n",
    "            print(\"Data Succesfully loaded.\")\n",
    "\n",
    "\n",
    "    def getStatusNetwork(self):     \n",
    "        return Counter(self.network_status)\n",
    "\n",
    "\n",
    "    def downloadNetwork(self,callLimit): \n",
    "        if self.node_status != 'complete': \n",
    "            self.downloadNode()\n",
    "\n",
    "        call = 0\n",
    "        for link in self.network_nodes:\n",
    "            Node2 = WikiNode(link)\n",
    "            if Node2.node_status == 'incomplete' or Node2.node_status == 'empty': \n",
    "                Node2.downloadNode()\n",
    "                call = call + 1\n",
    "                print(call)\n",
    "                if call >= callLimit: break\n",
    "\n",
    "    def getNodesEdges(self,threshold):\n",
    "        selected_nodes = [k for k,v in self.nodes_count.items() if float(v) >= threshold]\n",
    "        selected_edges = [(a,b) for a,b in self.network_edges if a in selected_nodes and b in selected_nodes]\n",
    "\n",
    "        nodes_network = []\n",
    "        for node in selected_nodes:\n",
    "            node_tuple = (node, {\"name\": node})\n",
    "            nodes_network.append(node_tuple)\n",
    "\n",
    "        return (nodes_network,selected_edges)"
   ]
  },
  {
   "cell_type": "code",
   "execution_count": 25,
   "metadata": {},
   "outputs": [],
   "source": [
    "def drawGraph(WikiNodesEdges):\n",
    "    \n",
    "    Graph = nx.Graph()\n",
    "\n",
    "    # Graph.add_nodes_from(WikiNodesEdges[0])\n",
    "    Graph.add_edges_from(WikiNodesEdges[1])\n",
    "\n",
    "    netdraw = Network('2000px', '2000px')\n",
    "    netdraw.from_nx(Graph)\n",
    "    netdraw.barnes_hut()\n",
    "\n",
    "    netdraw.show(\"wikigraph.html\")"
   ]
  },
  {
   "cell_type": "code",
   "execution_count": 36,
   "metadata": {
    "tags": []
   },
   "outputs": [
    {
     "output_type": "stream",
     "name": "stdout",
     "text": [
      "Data Succesfully loaded.\n"
     ]
    }
   ],
   "source": [
    "wikinet = WikiNetwork(\"Terrorism\")"
   ]
  },
  {
   "cell_type": "code",
   "execution_count": 41,
   "metadata": {
    "tags": []
   },
   "outputs": [],
   "source": [
    "graph_data = wikinet.getNodesEdges(50)"
   ]
  },
  {
   "cell_type": "code",
   "execution_count": 78,
   "metadata": {},
   "outputs": [
    {
     "output_type": "execute_result",
     "data": {
      "text/plain": [
       "True"
      ]
     },
     "metadata": {},
     "execution_count": 78
    }
   ],
   "source": [
    "'Terrorism' in network_data.keys()"
   ]
  },
  {
   "cell_type": "code",
   "execution_count": 37,
   "metadata": {},
   "outputs": [
    {
     "output_type": "execute_result",
     "data": {
      "text/plain": [
       "Counter({'complete': 779, 'dead': 4})"
      ]
     },
     "metadata": {},
     "execution_count": 37
    }
   ],
   "source": [
    "wikinet.getStatusNetwork()"
   ]
  },
  {
   "cell_type": "code",
   "execution_count": 42,
   "metadata": {},
   "outputs": [],
   "source": [
    "drawGraph(graph_data)"
   ]
  },
  {
   "cell_type": "code",
   "execution_count": null,
   "metadata": {},
   "outputs": [],
   "source": []
  }
 ]
}