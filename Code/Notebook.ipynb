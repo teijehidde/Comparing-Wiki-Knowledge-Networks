{
 "metadata": {
  "language_info": {
   "codemirror_mode": {
    "name": "ipython",
    "version": 3
   },
   "file_extension": ".py",
   "mimetype": "text/x-python",
   "name": "python",
   "nbconvert_exporter": "python",
   "pygments_lexer": "ipython3",
   "version": "3.8.5"
  },
  "orig_nbformat": 2,
  "kernelspec": {
   "name": "python385jvsc74a57bd031f2aee4e71d21fbe5cf8b01ff0e069b9275f58929596ceb00d14d90e3e16cd6",
   "display_name": "Python 3.8.5 64-bit"
  }
 },
 "nbformat": 4,
 "nbformat_minor": 2,
 "cells": [
  {
   "cell_type": "code",
   "execution_count": 6,
   "metadata": {},
   "outputs": [],
   "source": [
    "#Setup \n",
    "import requests\n",
    "import json\n",
    "import os\n",
    "from time import sleep\n",
    "from datetime import date\n",
    "\n",
    "WIKI_URL = \"https://en.wikipedia.org\"\n",
    "API_ENDPOINT = WIKI_URL + \"/w/api.php\"\n",
    "LINK_LIMIT = 100\n",
    "DATA_FILE = 'networkdata3.json'"
   ]
  },
  {
   "cell_type": "code",
   "execution_count": 7,
   "metadata": {},
   "outputs": [
    {
     "output_type": "stream",
     "name": "stdout",
     "text": [
      "The file networkdata3.json found, succesfully loaded.\nNetwork data accessed through https://en.wikipedia.org/w/api.php.\n"
     ]
    }
   ],
   "source": [
    "try:\n",
    "    with open('/home/teijehidde/Documents/Git Blog and Coding/Project one (wikipedia SNA)/Code/' + DATA_FILE) as json_file:\n",
    "        global network_data\n",
    "        network_data = json.load(json_file)\n",
    "    \n",
    "except IOError:\n",
    "    print(\"Error: Could not find \" + DATA_FILE + \". Please check if file is present in directory, or change DATA_FILE value.\")\n",
    "    \n",
    "else: \n",
    "    print(\"The file \" + DATA_FILE + \" found, succesfully loaded.\")\n",
    "    print(\"Network data accessed through \" + API_ENDPOINT + \".\")"
   ]
  },
  {
   "cell_type": "code",
   "execution_count": 8,
   "metadata": {},
   "outputs": [
    {
     "output_type": "execute_result",
     "data": {
      "text/plain": [
       "dict_keys(['Zevenaar', 'Duiven', 'Cambridge', 'Albert Einstein'])"
      ]
     },
     "metadata": {},
     "execution_count": 8
    }
   ],
   "source": [
    "network_data.keys()"
   ]
  },
  {
   "cell_type": "code",
   "execution_count": 14,
   "metadata": {},
   "outputs": [
    {
     "output_type": "error",
     "ename": "IndentationError",
     "evalue": "unexpected indent (<ipython-input-14-1d2590e8b906>, line 2)",
     "traceback": [
      "\u001b[0;36m  File \u001b[0;32m\"<ipython-input-14-1d2590e8b906>\"\u001b[0;36m, line \u001b[0;32m2\u001b[0m\n\u001b[0;31m    print(\"  \")\u001b[0m\n\u001b[0m    ^\u001b[0m\n\u001b[0;31mIndentationError\u001b[0m\u001b[0;31m:\u001b[0m unexpected indent\n"
     ]
    }
   ],
   "source": [
    "print(\"Current networks in \" + DATA_FILE + \":\")\n",
    "    print(\"  \")\n",
    "    \n",
    "    for item in network_data.keys(): print(item)\n",
    "       # if item['ego'] == 1:\n",
    "            "
   ]
  },
  {
   "cell_type": "code",
   "execution_count": null,
   "metadata": {},
   "outputs": [],
   "source": []
  }
 ]
}