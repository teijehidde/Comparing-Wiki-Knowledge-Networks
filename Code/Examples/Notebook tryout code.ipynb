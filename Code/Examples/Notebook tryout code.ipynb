{
 "metadata": {
  "language_info": {
   "codemirror_mode": {
    "name": "ipython",
    "version": 3
   },
   "file_extension": ".py",
   "mimetype": "text/x-python",
   "name": "python",
   "nbconvert_exporter": "python",
   "pygments_lexer": "ipython3",
   "version": "3.8.5"
  },
  "orig_nbformat": 2,
  "kernelspec": {
   "name": "python3",
   "display_name": "Python 3.8.5 64-bit",
   "metadata": {
    "interpreter": {
     "hash": "31f2aee4e71d21fbe5cf8b01ff0e069b9275f58929596ceb00d14d90e3e16cd6"
    }
   }
  }
 },
 "nbformat": 4,
 "nbformat_minor": 2,
 "cells": [
  {
   "cell_type": "code",
   "execution_count": 6,
   "metadata": {},
   "outputs": [],
   "source": [
    "import requests\n",
    "import json\n",
    "from datetime import date"
   ]
  },
  {
   "cell_type": "code",
   "execution_count": 54,
   "metadata": {},
   "outputs": [],
   "source": [
    "WIKI_URL = \"https://en.wikipedia.org\"\n",
    "API_ENDPOINT = WIKI_URL + \"/w/api.php\"\n",
    "network_data = open('/home/teijehidde/Documents/Git Blog and Coding/Project one (wikipedia SNA)/Code/networkdata.json')"
   ]
  },
  {
   "cell_type": "code",
   "execution_count": 117,
   "metadata": {},
   "outputs": [],
   "source": [
    "def GetWikiNetworkData(): # TODO \n",
    "    datafile = ''\n",
    "    datafile = input('Provide file name: ')\n",
    "\n",
    "    try:\n",
    "        network_data = open('/home/teijehidde/Documents/Git Blog and Coding/Project one (wikipedia SNA)/Code/' + datafile)\n",
    "    except IOError:\n",
    "        print(\"Error: Could not find file or read data.\")\n",
    "        answer = input('Create new file? (answer yes or no)')\n",
    "        if answer == 'yes': \n",
    "              data = json.dumps({'pages': [{'pageID': 'GENESIS', 'date': 'TODO', 'nodes': {'level0': 'GENESIS', 'level1': 'GENESIS'}, 'edges': {'level1': 'GENESIS'}} ] })\n",
    "\n",
    "              with open('/home/teijehidde/Documents/Git Blog and Coding/Project one (wikipedia SNA)/Code/' + datafile, 'x') as my_file: \n",
    "                  my_file.write(data)\n",
    "              network_data = open('/home/teijehidde/Documents/Git Blog and Coding/Project one (wikipedia SNA)/Code/' + datafile) \n",
    "    else: \n",
    "        print(\"File found, succesfully loaded.\")\n",
    "\n",
    "   # json_object = json.loads(network_data)\n",
    "\n",
    "    return network_data\n",
    "   \n",
    "        # NB to do is check if file is the correct json file & format. For later. \n",
    "\n",
    "\n"
   ]
  },
  {
   "cell_type": "code",
   "execution_count": 118,
   "metadata": {},
   "outputs": [
    {
     "output_type": "stream",
     "name": "stdout",
     "text": [
      "File found, succesfully loaded.\n"
     ]
    }
   ],
   "source": [
    "test = GetWikiNetworkData()"
   ]
  },
  {
   "cell_type": "code",
   "execution_count": 119,
   "metadata": {},
   "outputs": [
    {
     "output_type": "stream",
     "name": "stdout",
     "text": [
      "<_io.TextIOWrapper name='/home/teijehidde/Documents/Git Blog and Coding/Project one (wikipedia SNA)/Code/test7' mode='r' encoding='UTF-8'>\n"
     ]
    }
   ],
   "source": [
    "print(test)"
   ]
  },
  {
   "cell_type": "code",
   "execution_count": 71,
   "metadata": {},
   "outputs": [
    {
     "output_type": "error",
     "ename": "NameError",
     "evalue": "name 'touch' is not defined",
     "traceback": [
      "\u001b[0;31m---------------------------------------------------------------------------\u001b[0m",
      "\u001b[0;31mNameError\u001b[0m                                 Traceback (most recent call last)",
      "\u001b[0;32m<ipython-input-71-8e9704781b79>\u001b[0m in \u001b[0;36m<module>\u001b[0;34m\u001b[0m\n\u001b[0;32m----> 1\u001b[0;31m \u001b[0mtouch\u001b[0m\u001b[0;34m(\u001b[0m\u001b[0;34m'/home/teijehidde/Documents/Git Blog and Coding/Project one (wikipedia SNA)/Code/'\u001b[0m \u001b[0;34m+\u001b[0m \u001b[0mdatafile\u001b[0m\u001b[0;34m)\u001b[0m\u001b[0;34m\u001b[0m\u001b[0;34m\u001b[0m\u001b[0m\n\u001b[0m",
      "\u001b[0;31mNameError\u001b[0m: name 'touch' is not defined"
     ]
    }
   ],
   "source": [
    "touch('/home/teijehidde/Documents/Git Blog and Coding/Project one (wikipedia SNA)/Code/' + datafile)"
   ]
  },
  {
   "cell_type": "code",
   "execution_count": 57,
   "metadata": {},
   "outputs": [
    {
     "output_type": "error",
     "ename": "NameError",
     "evalue": "name 'request' is not defined",
     "traceback": [
      "\u001b[0;31m---------------------------------------------------------------------------\u001b[0m",
      "\u001b[0;31mNameError\u001b[0m                                 Traceback (most recent call last)",
      "\u001b[0;32m<ipython-input-57-ed6f969c84c8>\u001b[0m in \u001b[0;36m<module>\u001b[0;34m\u001b[0m\n\u001b[0;32m----> 1\u001b[0;31m \u001b[0mjson_object\u001b[0m \u001b[0;34m=\u001b[0m \u001b[0mjson\u001b[0m\u001b[0;34m.\u001b[0m\u001b[0mloads\u001b[0m\u001b[0;34m(\u001b[0m\u001b[0mrequest\u001b[0m\u001b[0;34m.\u001b[0m\u001b[0mPOST\u001b[0m\u001b[0;34m.\u001b[0m\u001b[0mget\u001b[0m\u001b[0;34m(\u001b[0m\u001b[0mnetwork_data\u001b[0m\u001b[0;34m,\u001b[0m \u001b[0;34m'{}'\u001b[0m\u001b[0;34m)\u001b[0m\u001b[0;34m)\u001b[0m\u001b[0;34m\u001b[0m\u001b[0;34m\u001b[0m\u001b[0m\n\u001b[0m",
      "\u001b[0;31mNameError\u001b[0m: name 'request' is not defined"
     ]
    }
   ],
   "source": [
    "json_object = json.loads(request.POST.get(network_data, '{}'))"
   ]
  },
  {
   "cell_type": "code",
   "execution_count": 37,
   "metadata": {},
   "outputs": [],
   "source": [
    "def GetEgoNetwork(pagetitle,json_object):\n",
    "    \"\"\" Fetch or update links via MediaWiki API's of first layer ego network \"\"\"\n",
    "    \n",
    "    nodes = []\n",
    "    edges = []\n",
    "    params = {\n",
    "        \"action\": \"query\",\n",
    "        \"format\": \"json\",\n",
    "        \"titles\": pagetitle,\n",
    "        \"prop\": \"links\"\n",
    "    }\n",
    "\n",
    "    response = requests.get(url=API_ENDPOINT, params=params)\n",
    "    \n",
    "    data_wiki = response.json()\n",
    "    page = next(iter(data['query']['pages']))\n",
    "    \n",
    "    for x in data['query']['pages'][page]['links']: \n",
    "        nodes.append(x['title'])\n",
    "        edges.append((pagetitle, x['title']))\n",
    "    \n",
    "    data_page = {'pages': [{'pageID': page, 'date': 'TODO', 'nodes': {'level0': pagetitle, 'level1': nodes}, 'edges': {'level1': edges}} ] }\n",
    "    \n",
    "    json_object['pages'].append(data_page)\n",
    "\n",
    "    return json_object"
   ]
  },
  {
   "cell_type": "code",
   "execution_count": 41,
   "metadata": {},
   "outputs": [],
   "source": [
    "data2 = get_network_level_zero(\"Duiven\")"
   ]
  },
  {
   "cell_type": "code",
   "execution_count": 39,
   "metadata": {},
   "outputs": [
    {
     "output_type": "stream",
     "name": "stdout",
     "text": [
      "{'pages': [{'pageID': '56494', 'date': 'TODO', 'nodes': {'level0': 'Bergen', 'level1': ['+47', '1961–62 Norwegian Main League', '1963 Norwegian First Division', '1990 Norwegian First Division', '1991 Norwegian Premier League', '1993 Norwegian Premier League', \"1996–97 UEFA Cup Winners' Cup\", '2003 Norwegian county council election', '2007 Norwegian local elections', '2007 SK Brann season']}, 'edges': {'level1': [('Bergen', '+47'), ('Bergen', '1961–62 Norwegian Main League'), ('Bergen', '1963 Norwegian First Division'), ('Bergen', '1990 Norwegian First Division'), ('Bergen', '1991 Norwegian Premier League'), ('Bergen', '1993 Norwegian Premier League'), ('Bergen', \"1996–97 UEFA Cup Winners' Cup\"), ('Bergen', '2003 Norwegian county council election'), ('Bergen', '2007 Norwegian local elections'), ('Bergen', '2007 SK Brann season')]}}]}\n"
     ]
    }
   ],
   "source": [
    "print(data)"
   ]
  },
  {
   "cell_type": "code",
   "execution_count": 27,
   "metadata": {},
   "outputs": [
    {
     "output_type": "execute_result",
     "data": {
      "text/plain": [
       "{'pages': [{'pageID': '118602',\n",
       "   'date': datetime.date(2021, 3, 31),\n",
       "   'nodes': {'level0': 'Duiven',\n",
       "    'level1': ['Aalten',\n",
       "     'Apeldoorn',\n",
       "     'Arnhem',\n",
       "     'Barneveld (municipality)',\n",
       "     'Bavaria',\n",
       "     'Berg en Dal (municipality)',\n",
       "     'Berkelland',\n",
       "     'Beuningen',\n",
       "     'Bronckhorst',\n",
       "     'Brummen']},\n",
       "   'edges': {'level1': [('Duiven', 'Aalten'),\n",
       "     ('Duiven', 'Apeldoorn'),\n",
       "     ('Duiven', 'Arnhem'),\n",
       "     ('Duiven', 'Barneveld (municipality)'),\n",
       "     ('Duiven', 'Bavaria'),\n",
       "     ('Duiven', 'Berg en Dal (municipality)'),\n",
       "     ('Duiven', 'Berkelland'),\n",
       "     ('Duiven', 'Beuningen'),\n",
       "     ('Duiven', 'Bronckhorst'),\n",
       "     ('Duiven', 'Brummen')]}}]}"
      ]
     },
     "metadata": {},
     "execution_count": 27
    }
   ],
   "source": [
    "data2"
   ]
  },
  {
   "cell_type": "code",
   "execution_count": 42,
   "metadata": {},
   "outputs": [],
   "source": [
    "data['pages'].append(data2)"
   ]
  },
  {
   "cell_type": "code",
   "execution_count": 43,
   "metadata": {},
   "outputs": [
    {
     "output_type": "execute_result",
     "data": {
      "text/plain": [
       "{'pages': [{'pageID': '56494',\n",
       "   'date': 'TODO',\n",
       "   'nodes': {'level0': 'Bergen',\n",
       "    'level1': ['+47',\n",
       "     '1961–62 Norwegian Main League',\n",
       "     '1963 Norwegian First Division',\n",
       "     '1990 Norwegian First Division',\n",
       "     '1991 Norwegian Premier League',\n",
       "     '1993 Norwegian Premier League',\n",
       "     \"1996–97 UEFA Cup Winners' Cup\",\n",
       "     '2003 Norwegian county council election',\n",
       "     '2007 Norwegian local elections',\n",
       "     '2007 SK Brann season']},\n",
       "   'edges': {'level1': [('Bergen', '+47'),\n",
       "     ('Bergen', '1961–62 Norwegian Main League'),\n",
       "     ('Bergen', '1963 Norwegian First Division'),\n",
       "     ('Bergen', '1990 Norwegian First Division'),\n",
       "     ('Bergen', '1991 Norwegian Premier League'),\n",
       "     ('Bergen', '1993 Norwegian Premier League'),\n",
       "     ('Bergen', \"1996–97 UEFA Cup Winners' Cup\"),\n",
       "     ('Bergen', '2003 Norwegian county council election'),\n",
       "     ('Bergen', '2007 Norwegian local elections'),\n",
       "     ('Bergen', '2007 SK Brann season')]}},\n",
       "  {'pages': [{'pageID': '118602',\n",
       "     'date': 'TODO',\n",
       "     'nodes': {'level0': 'Duiven',\n",
       "      'level1': ['Aalten',\n",
       "       'Apeldoorn',\n",
       "       'Arnhem',\n",
       "       'Barneveld (municipality)',\n",
       "       'Bavaria',\n",
       "       'Berg en Dal (municipality)',\n",
       "       'Berkelland',\n",
       "       'Beuningen',\n",
       "       'Bronckhorst',\n",
       "       'Brummen']},\n",
       "     'edges': {'level1': [('Duiven', 'Aalten'),\n",
       "       ('Duiven', 'Apeldoorn'),\n",
       "       ('Duiven', 'Arnhem'),\n",
       "       ('Duiven', 'Barneveld (municipality)'),\n",
       "       ('Duiven', 'Bavaria'),\n",
       "       ('Duiven', 'Berg en Dal (municipality)'),\n",
       "       ('Duiven', 'Berkelland'),\n",
       "       ('Duiven', 'Beuningen'),\n",
       "       ('Duiven', 'Bronckhorst'),\n",
       "       ('Duiven', 'Brummen')]}}]}]}"
      ]
     },
     "metadata": {},
     "execution_count": 43
    }
   ],
   "source": [
    "data"
   ]
  },
  {
   "cell_type": "code",
   "execution_count": 48,
   "metadata": {},
   "outputs": [],
   "source": [
    "test = json.dumps(data, indent=2, sort_keys=True)"
   ]
  },
  {
   "cell_type": "code",
   "execution_count": 49,
   "metadata": {},
   "outputs": [
    {
     "output_type": "execute_result",
     "data": {
      "text/plain": [
       "'{\\n  \"pages\": [\\n    {\\n      \"date\": \"TODO\",\\n      \"edges\": {\\n        \"level1\": [\\n          [\\n            \"Bergen\",\\n            \"+47\"\\n          ],\\n          [\\n            \"Bergen\",\\n            \"1961\\\\u201362 Norwegian Main League\"\\n          ],\\n          [\\n            \"Bergen\",\\n            \"1963 Norwegian First Division\"\\n          ],\\n          [\\n            \"Bergen\",\\n            \"1990 Norwegian First Division\"\\n          ],\\n          [\\n            \"Bergen\",\\n            \"1991 Norwegian Premier League\"\\n          ],\\n          [\\n            \"Bergen\",\\n            \"1993 Norwegian Premier League\"\\n          ],\\n          [\\n            \"Bergen\",\\n            \"1996\\\\u201397 UEFA Cup Winners\\' Cup\"\\n          ],\\n          [\\n            \"Bergen\",\\n            \"2003 Norwegian county council election\"\\n          ],\\n          [\\n            \"Bergen\",\\n            \"2007 Norwegian local elections\"\\n          ],\\n          [\\n            \"Bergen\",\\n            \"2007 SK Brann season\"\\n          ]\\n        ]\\n      },\\n      \"nodes\": {\\n        \"level0\": \"Bergen\",\\n        \"level1\": [\\n          \"+47\",\\n          \"1961\\\\u201362 Norwegian Main League\",\\n          \"1963 Norwegian First Division\",\\n          \"1990 Norwegian First Division\",\\n          \"1991 Norwegian Premier League\",\\n          \"1993 Norwegian Premier League\",\\n          \"1996\\\\u201397 UEFA Cup Winners\\' Cup\",\\n          \"2003 Norwegian county council election\",\\n          \"2007 Norwegian local elections\",\\n          \"2007 SK Brann season\"\\n        ]\\n      },\\n      \"pageID\": \"56494\"\\n    },\\n    {\\n      \"pages\": [\\n        {\\n          \"date\": \"TODO\",\\n          \"edges\": {\\n            \"level1\": [\\n              [\\n                \"Duiven\",\\n                \"Aalten\"\\n              ],\\n              [\\n                \"Duiven\",\\n                \"Apeldoorn\"\\n              ],\\n              [\\n                \"Duiven\",\\n                \"Arnhem\"\\n              ],\\n              [\\n                \"Duiven\",\\n                \"Barneveld (municipality)\"\\n              ],\\n              [\\n                \"Duiven\",\\n                \"Bavaria\"\\n              ],\\n              [\\n                \"Duiven\",\\n                \"Berg en Dal (municipality)\"\\n              ],\\n              [\\n                \"Duiven\",\\n                \"Berkelland\"\\n              ],\\n              [\\n                \"Duiven\",\\n                \"Beuningen\"\\n              ],\\n              [\\n                \"Duiven\",\\n                \"Bronckhorst\"\\n              ],\\n              [\\n                \"Duiven\",\\n                \"Brummen\"\\n              ]\\n            ]\\n          },\\n          \"nodes\": {\\n            \"level0\": \"Duiven\",\\n            \"level1\": [\\n              \"Aalten\",\\n              \"Apeldoorn\",\\n              \"Arnhem\",\\n              \"Barneveld (municipality)\",\\n              \"Bavaria\",\\n              \"Berg en Dal (municipality)\",\\n              \"Berkelland\",\\n              \"Beuningen\",\\n              \"Bronckhorst\",\\n              \"Brummen\"\\n            ]\\n          },\\n          \"pageID\": \"118602\"\\n        }\\n      ]\\n    }\\n  ]\\n}'"
      ]
     },
     "metadata": {},
     "execution_count": 49
    }
   ],
   "source": [
    "test"
   ]
  },
  {
   "cell_type": "code",
   "execution_count": null,
   "metadata": {},
   "outputs": [],
   "source": []
  }
 ]
}