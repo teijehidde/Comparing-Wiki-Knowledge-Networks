{
 "metadata": {
  "language_info": {
   "codemirror_mode": {
    "name": "ipython",
    "version": 3
   },
   "file_extension": ".py",
   "mimetype": "text/x-python",
   "name": "python",
   "nbconvert_exporter": "python",
   "pygments_lexer": "ipython3",
   "version": "3.8.5"
  },
  "orig_nbformat": 2,
  "kernelspec": {
   "name": "python3",
   "display_name": "Python 3.8.5 64-bit",
   "metadata": {
    "interpreter": {
     "hash": "31f2aee4e71d21fbe5cf8b01ff0e069b9275f58929596ceb00d14d90e3e16cd6"
    }
   }
  }
 },
 "nbformat": 4,
 "nbformat_minor": 2,
 "cells": [
  {
   "cell_type": "code",
   "execution_count": 1,
   "metadata": {},
   "outputs": [],
   "source": [
    "import requests\n",
    "import json\n",
    "from datetime import date"
   ]
  },
  {
   "cell_type": "code",
   "execution_count": 2,
   "metadata": {},
   "outputs": [],
   "source": [
    "WIKI_URL = \"https://en.wikipedia.org\"\n",
    "API_ENDPOINT = WIKI_URL + \"/w/api.php\""
   ]
  },
  {
   "cell_type": "code",
   "execution_count": 8,
   "metadata": {},
   "outputs": [],
   "source": [
    "def get_network_level_zero(pagetitle):\n",
    "    \"\"\" Fetch links via MediaWiki API's links module \"\"\"\n",
    "    nodes = []\n",
    "    edges = []\n",
    "    params = {\n",
    "        \"action\": \"query\",\n",
    "        \"format\": \"json\",\n",
    "        \"titles\": pagetitle,\n",
    "        \"prop\": \"links\"\n",
    "    }\n",
    "\n",
    "    response = requests.get(url=API_ENDPOINT, params=params)\n",
    "    \n",
    "    data = response.json()\n",
    "    page = next(iter(data['query']['pages']))\n",
    "    \n",
    "    for x in data['query']['pages'][page]['links']: \n",
    "        nodes.append(x['title'])\n",
    "        edges.append((pagetitle, x['title']))\n",
    "    \n",
    "    return{'pages': [{'pageID': page, 'date': date.today(), 'nodes': {'level0': pagetitle, 'level1': nodes}, 'edges': {'level1': edges}} ] }"
   ]
  },
  {
   "cell_type": "code",
   "execution_count": 9,
   "metadata": {},
   "outputs": [],
   "source": [
    "data = get_network_level_zero(\"Bergen\")"
   ]
  },
  {
   "cell_type": "code",
   "execution_count": 10,
   "metadata": {},
   "outputs": [
    {
     "output_type": "stream",
     "name": "stdout",
     "text": [
      "{'pages': [{'pageID': '56494', 'date': datetime.date(2021, 3, 31), 'nodes': {'level0': 'Bergen', 'level1': ['+47', '1961–62 Norwegian Main League', '1963 Norwegian First Division', '1990 Norwegian First Division', '1991 Norwegian Premier League', '1993 Norwegian Premier League', \"1996–97 UEFA Cup Winners' Cup\", '2003 Norwegian county council election', '2007 Norwegian local elections', '2007 SK Brann season']}, 'edges': {'level1': [('Bergen', '+47'), ('Bergen', '1961–62 Norwegian Main League'), ('Bergen', '1963 Norwegian First Division'), ('Bergen', '1990 Norwegian First Division'), ('Bergen', '1991 Norwegian Premier League'), ('Bergen', '1993 Norwegian Premier League'), ('Bergen', \"1996–97 UEFA Cup Winners' Cup\"), ('Bergen', '2003 Norwegian county council election'), ('Bergen', '2007 Norwegian local elections'), ('Bergen', '2007 SK Brann season')]}}]}\n"
     ]
    }
   ],
   "source": [
    "print(data)"
   ]
  },
  {
   "cell_type": "code",
   "execution_count": null,
   "metadata": {},
   "outputs": [],
   "source": []
  }
 ]
}